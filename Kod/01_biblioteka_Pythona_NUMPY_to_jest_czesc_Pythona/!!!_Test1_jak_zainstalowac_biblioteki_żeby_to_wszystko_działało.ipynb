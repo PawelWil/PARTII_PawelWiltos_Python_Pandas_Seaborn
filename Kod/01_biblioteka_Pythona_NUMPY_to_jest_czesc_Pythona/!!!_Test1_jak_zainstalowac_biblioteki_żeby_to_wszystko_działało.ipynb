{
 "cells": [
  {
   "cell_type": "code",
   "execution_count": null,
   "metadata": {
    "collapsed": true
   },
   "outputs": [],
   "source": [
    "# dane pobieram sobie z pliku 'requirements2.txt' - a robie to poprzez -> wchodze do terminal; -> tam rozijam znak wiekszości, ale ten w dół i wybieram 'Command Prompt' -> następnie wpisuje: pip install -r <nazwa_pliku_z_bibliotekami> -> w naszym przypadku to będzie: pip install -r requirements2.txt -> enter -> i teraz powinno być ok"
   ]
  },
  {
   "cell_type": "markdown",
   "source": [
    "### Przydatne dane\n"
   ],
   "metadata": {
    "collapsed": false
   }
  },
  {
   "cell_type": "code",
   "execution_count": null,
   "outputs": [],
   "source": [
    "# 1. kombinacja klawiszy, ktore uruchmiają wszystkie kody to: shift + enter. Tu nie trzeba, tak jak w SQL zaznaczać całej linii, wystarczy, że kursor się tam znajdzie\n",
    "\n",
    "# 2. Jak chcemy tworzyć komentarze, to tą linię, która ma być komentarzem, zaznaczamy jako 'Markdown' - opcja w pasku u góry. Już po zapisaniu komentarza, żeby go odpalić, muszę wcisnąć funkcję uruchmiającą: shift+enter\n",
    "\n",
    "# 3. Jak chcemy dodać nową linię kodu, nie ciąg dalszy jakiejś konkretnej, ale całkiem nwoą, to najeżdzamy kursorem na przerwę miedzy dwoma osobnymi liniami kou i wtedy pojawia się 'Add Code Cell'(czyli linia kodu) albo 'Add Markdown cell', czyli komentarz"
   ],
   "metadata": {
    "collapsed": false
   }
  },
  {
   "cell_type": "code",
   "execution_count": null,
   "outputs": [],
   "source": [],
   "metadata": {
    "collapsed": false
   }
  }
 ],
 "metadata": {
  "kernelspec": {
   "display_name": "Python 3",
   "language": "python",
   "name": "python3"
  },
  "language_info": {
   "codemirror_mode": {
    "name": "ipython",
    "version": 2
   },
   "file_extension": ".py",
   "mimetype": "text/x-python",
   "name": "python",
   "nbconvert_exporter": "python",
   "pygments_lexer": "ipython2",
   "version": "2.7.6"
  }
 },
 "nbformat": 4,
 "nbformat_minor": 0
}
