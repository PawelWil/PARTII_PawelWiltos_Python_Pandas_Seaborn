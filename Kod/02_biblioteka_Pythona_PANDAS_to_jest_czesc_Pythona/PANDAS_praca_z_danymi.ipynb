{
 "cells": [
  {
   "cell_type": "code",
   "execution_count": 5,
   "metadata": {
    "collapsed": true
   },
   "outputs": [],
   "source": [
    "import numpy as np #import bibliotek numpy i pandas\n",
    "import pandas as pd"
   ]
  },
  {
   "cell_type": "code",
   "execution_count": 87,
   "outputs": [
    {
     "data": {
      "text/plain": "      Name  Age       Location Occupation  Salary\n0    Alice   28       New York   Engineer   80000\n1      Bob   35    Los Angeles     Doctor  120000\n2  Charlie   22        Chicago    Student       0\n3    David   40  San Francisco    Manager   95000\n4    Emily   29          Miami   Designer   75000",
      "text/html": "<div>\n<style scoped>\n    .dataframe tbody tr th:only-of-type {\n        vertical-align: middle;\n    }\n\n    .dataframe tbody tr th {\n        vertical-align: top;\n    }\n\n    .dataframe thead th {\n        text-align: right;\n    }\n</style>\n<table border=\"1\" class=\"dataframe\">\n  <thead>\n    <tr style=\"text-align: right;\">\n      <th></th>\n      <th>Name</th>\n      <th>Age</th>\n      <th>Location</th>\n      <th>Occupation</th>\n      <th>Salary</th>\n    </tr>\n  </thead>\n  <tbody>\n    <tr>\n      <th>0</th>\n      <td>Alice</td>\n      <td>28</td>\n      <td>New York</td>\n      <td>Engineer</td>\n      <td>80000</td>\n    </tr>\n    <tr>\n      <th>1</th>\n      <td>Bob</td>\n      <td>35</td>\n      <td>Los Angeles</td>\n      <td>Doctor</td>\n      <td>120000</td>\n    </tr>\n    <tr>\n      <th>2</th>\n      <td>Charlie</td>\n      <td>22</td>\n      <td>Chicago</td>\n      <td>Student</td>\n      <td>0</td>\n    </tr>\n    <tr>\n      <th>3</th>\n      <td>David</td>\n      <td>40</td>\n      <td>San Francisco</td>\n      <td>Manager</td>\n      <td>95000</td>\n    </tr>\n    <tr>\n      <th>4</th>\n      <td>Emily</td>\n      <td>29</td>\n      <td>Miami</td>\n      <td>Designer</td>\n      <td>75000</td>\n    </tr>\n  </tbody>\n</table>\n</div>"
     },
     "execution_count": 87,
     "metadata": {},
     "output_type": "execute_result"
    }
   ],
   "source": [
    "df_people = pd.read_csv('../../Pliki/02_pandas/people.csv') #zaczytanie pliku .csv people + utworzenie zmiennej df_people\n",
    "df_people.head() # pokaznie tylko 5 rekordów"
   ],
   "metadata": {
    "collapsed": false
   }
  },
  {
   "cell_type": "code",
   "execution_count": 97,
   "outputs": [
    {
     "data": {
      "text/plain": "       Name  Age       Location      Occupation  Salary  Length in cm  age\n0     Alice   28       New York        Engineer   80000           178   78\n1       Bob   35    Los Angeles          Doctor  120000           179   78\n2   Charlie   22        Chicago         Student       0           182   82\n3     David   40  San Francisco         Manager   95000           190   90\n4     Emily   29          Miami        Designer   75000           189   38\n5     Frank   32         Boston         Teacher   60000           176   38\n6     Grace   27        Seattle       Scientist  110000           165   65\n7    Hannah   45         Dallas          Lawyer  130000           156   56\n8       Ian   31         Denver          Writer   70000           166   45\n9     Julia   24         Austin          Artist   55000           180   33\n10    Karen   38        Houston      Accountant   90000           165   33\n11     Liam   26        Phoenix    Photographer   50000           190   45\n12    Megan   33       Portland       Architect  105000           201   19\n13   Nathan   29        Atlanta        Musician   40000           160   46\n14   Olivia   27        Detroit            Chef   65000           179   24\n15     Paul   36    Minneapolis  Police Officer   85000           191   31",
      "text/html": "<div>\n<style scoped>\n    .dataframe tbody tr th:only-of-type {\n        vertical-align: middle;\n    }\n\n    .dataframe tbody tr th {\n        vertical-align: top;\n    }\n\n    .dataframe thead th {\n        text-align: right;\n    }\n</style>\n<table border=\"1\" class=\"dataframe\">\n  <thead>\n    <tr style=\"text-align: right;\">\n      <th></th>\n      <th>Name</th>\n      <th>Age</th>\n      <th>Location</th>\n      <th>Occupation</th>\n      <th>Salary</th>\n      <th>Length in cm</th>\n      <th>age</th>\n    </tr>\n  </thead>\n  <tbody>\n    <tr>\n      <th>0</th>\n      <td>Alice</td>\n      <td>28</td>\n      <td>New York</td>\n      <td>Engineer</td>\n      <td>80000</td>\n      <td>178</td>\n      <td>78</td>\n    </tr>\n    <tr>\n      <th>1</th>\n      <td>Bob</td>\n      <td>35</td>\n      <td>Los Angeles</td>\n      <td>Doctor</td>\n      <td>120000</td>\n      <td>179</td>\n      <td>78</td>\n    </tr>\n    <tr>\n      <th>2</th>\n      <td>Charlie</td>\n      <td>22</td>\n      <td>Chicago</td>\n      <td>Student</td>\n      <td>0</td>\n      <td>182</td>\n      <td>82</td>\n    </tr>\n    <tr>\n      <th>3</th>\n      <td>David</td>\n      <td>40</td>\n      <td>San Francisco</td>\n      <td>Manager</td>\n      <td>95000</td>\n      <td>190</td>\n      <td>90</td>\n    </tr>\n    <tr>\n      <th>4</th>\n      <td>Emily</td>\n      <td>29</td>\n      <td>Miami</td>\n      <td>Designer</td>\n      <td>75000</td>\n      <td>189</td>\n      <td>38</td>\n    </tr>\n    <tr>\n      <th>5</th>\n      <td>Frank</td>\n      <td>32</td>\n      <td>Boston</td>\n      <td>Teacher</td>\n      <td>60000</td>\n      <td>176</td>\n      <td>38</td>\n    </tr>\n    <tr>\n      <th>6</th>\n      <td>Grace</td>\n      <td>27</td>\n      <td>Seattle</td>\n      <td>Scientist</td>\n      <td>110000</td>\n      <td>165</td>\n      <td>65</td>\n    </tr>\n    <tr>\n      <th>7</th>\n      <td>Hannah</td>\n      <td>45</td>\n      <td>Dallas</td>\n      <td>Lawyer</td>\n      <td>130000</td>\n      <td>156</td>\n      <td>56</td>\n    </tr>\n    <tr>\n      <th>8</th>\n      <td>Ian</td>\n      <td>31</td>\n      <td>Denver</td>\n      <td>Writer</td>\n      <td>70000</td>\n      <td>166</td>\n      <td>45</td>\n    </tr>\n    <tr>\n      <th>9</th>\n      <td>Julia</td>\n      <td>24</td>\n      <td>Austin</td>\n      <td>Artist</td>\n      <td>55000</td>\n      <td>180</td>\n      <td>33</td>\n    </tr>\n    <tr>\n      <th>10</th>\n      <td>Karen</td>\n      <td>38</td>\n      <td>Houston</td>\n      <td>Accountant</td>\n      <td>90000</td>\n      <td>165</td>\n      <td>33</td>\n    </tr>\n    <tr>\n      <th>11</th>\n      <td>Liam</td>\n      <td>26</td>\n      <td>Phoenix</td>\n      <td>Photographer</td>\n      <td>50000</td>\n      <td>190</td>\n      <td>45</td>\n    </tr>\n    <tr>\n      <th>12</th>\n      <td>Megan</td>\n      <td>33</td>\n      <td>Portland</td>\n      <td>Architect</td>\n      <td>105000</td>\n      <td>201</td>\n      <td>19</td>\n    </tr>\n    <tr>\n      <th>13</th>\n      <td>Nathan</td>\n      <td>29</td>\n      <td>Atlanta</td>\n      <td>Musician</td>\n      <td>40000</td>\n      <td>160</td>\n      <td>46</td>\n    </tr>\n    <tr>\n      <th>14</th>\n      <td>Olivia</td>\n      <td>27</td>\n      <td>Detroit</td>\n      <td>Chef</td>\n      <td>65000</td>\n      <td>179</td>\n      <td>24</td>\n    </tr>\n    <tr>\n      <th>15</th>\n      <td>Paul</td>\n      <td>36</td>\n      <td>Minneapolis</td>\n      <td>Police Officer</td>\n      <td>85000</td>\n      <td>191</td>\n      <td>31</td>\n    </tr>\n  </tbody>\n</table>\n</div>"
     },
     "execution_count": 97,
     "metadata": {},
     "output_type": "execute_result"
    }
   ],
   "source": [
    "df_people['Length in cm'] = [178, 179, 182, 190, 189, 176, 165, 156, 166, 180, 165, 190, 201, 160, 179, 191]\n",
    "# dodanie kolumny 'Length in cm' i 'age'\n",
    "df_people['age'] = [78, 78, 82, 90, 38,38, 65, 56, 45, 33, 33, 45, 19, 46, 24, 31]\n",
    "df_people"
   ],
   "metadata": {
    "collapsed": false
   }
  },
  {
   "cell_type": "code",
   "execution_count": 89,
   "outputs": [
    {
     "data": {
      "text/plain": "       Name  Age       Location      Occupation  Salary  Length in cm\n0     Alice   28       New York        Engineer   80000           178\n1       Bob   35    Los Angeles          Doctor  120000           179\n2   Charlie   22        Chicago         Student       0           182\n3     David   40  San Francisco         Manager   95000           190\n4     Emily   29          Miami        Designer   75000           189\n5     Frank   32         Boston         Teacher   60000           176\n6     Grace   27        Seattle       Scientist  110000           165\n7    Hannah   45         Dallas          Lawyer  130000           156\n8       Ian   31         Denver          Writer   70000           166\n9     Julia   24         Austin          Artist   55000           180\n10    Karen   38        Houston      Accountant   90000           165\n11     Liam   26        Phoenix    Photographer   50000           190\n12    Megan   33       Portland       Architect  105000           201\n13   Nathan   29        Atlanta        Musician   40000           160\n14   Olivia   27        Detroit            Chef   65000           179\n15     Paul   36    Minneapolis  Police Officer   85000           191",
      "text/html": "<div>\n<style scoped>\n    .dataframe tbody tr th:only-of-type {\n        vertical-align: middle;\n    }\n\n    .dataframe tbody tr th {\n        vertical-align: top;\n    }\n\n    .dataframe thead th {\n        text-align: right;\n    }\n</style>\n<table border=\"1\" class=\"dataframe\">\n  <thead>\n    <tr style=\"text-align: right;\">\n      <th></th>\n      <th>Name</th>\n      <th>Age</th>\n      <th>Location</th>\n      <th>Occupation</th>\n      <th>Salary</th>\n      <th>Length in cm</th>\n    </tr>\n  </thead>\n  <tbody>\n    <tr>\n      <th>0</th>\n      <td>Alice</td>\n      <td>28</td>\n      <td>New York</td>\n      <td>Engineer</td>\n      <td>80000</td>\n      <td>178</td>\n    </tr>\n    <tr>\n      <th>1</th>\n      <td>Bob</td>\n      <td>35</td>\n      <td>Los Angeles</td>\n      <td>Doctor</td>\n      <td>120000</td>\n      <td>179</td>\n    </tr>\n    <tr>\n      <th>2</th>\n      <td>Charlie</td>\n      <td>22</td>\n      <td>Chicago</td>\n      <td>Student</td>\n      <td>0</td>\n      <td>182</td>\n    </tr>\n    <tr>\n      <th>3</th>\n      <td>David</td>\n      <td>40</td>\n      <td>San Francisco</td>\n      <td>Manager</td>\n      <td>95000</td>\n      <td>190</td>\n    </tr>\n    <tr>\n      <th>4</th>\n      <td>Emily</td>\n      <td>29</td>\n      <td>Miami</td>\n      <td>Designer</td>\n      <td>75000</td>\n      <td>189</td>\n    </tr>\n    <tr>\n      <th>5</th>\n      <td>Frank</td>\n      <td>32</td>\n      <td>Boston</td>\n      <td>Teacher</td>\n      <td>60000</td>\n      <td>176</td>\n    </tr>\n    <tr>\n      <th>6</th>\n      <td>Grace</td>\n      <td>27</td>\n      <td>Seattle</td>\n      <td>Scientist</td>\n      <td>110000</td>\n      <td>165</td>\n    </tr>\n    <tr>\n      <th>7</th>\n      <td>Hannah</td>\n      <td>45</td>\n      <td>Dallas</td>\n      <td>Lawyer</td>\n      <td>130000</td>\n      <td>156</td>\n    </tr>\n    <tr>\n      <th>8</th>\n      <td>Ian</td>\n      <td>31</td>\n      <td>Denver</td>\n      <td>Writer</td>\n      <td>70000</td>\n      <td>166</td>\n    </tr>\n    <tr>\n      <th>9</th>\n      <td>Julia</td>\n      <td>24</td>\n      <td>Austin</td>\n      <td>Artist</td>\n      <td>55000</td>\n      <td>180</td>\n    </tr>\n    <tr>\n      <th>10</th>\n      <td>Karen</td>\n      <td>38</td>\n      <td>Houston</td>\n      <td>Accountant</td>\n      <td>90000</td>\n      <td>165</td>\n    </tr>\n    <tr>\n      <th>11</th>\n      <td>Liam</td>\n      <td>26</td>\n      <td>Phoenix</td>\n      <td>Photographer</td>\n      <td>50000</td>\n      <td>190</td>\n    </tr>\n    <tr>\n      <th>12</th>\n      <td>Megan</td>\n      <td>33</td>\n      <td>Portland</td>\n      <td>Architect</td>\n      <td>105000</td>\n      <td>201</td>\n    </tr>\n    <tr>\n      <th>13</th>\n      <td>Nathan</td>\n      <td>29</td>\n      <td>Atlanta</td>\n      <td>Musician</td>\n      <td>40000</td>\n      <td>160</td>\n    </tr>\n    <tr>\n      <th>14</th>\n      <td>Olivia</td>\n      <td>27</td>\n      <td>Detroit</td>\n      <td>Chef</td>\n      <td>65000</td>\n      <td>179</td>\n    </tr>\n    <tr>\n      <th>15</th>\n      <td>Paul</td>\n      <td>36</td>\n      <td>Minneapolis</td>\n      <td>Police Officer</td>\n      <td>85000</td>\n      <td>191</td>\n    </tr>\n  </tbody>\n</table>\n</div>"
     },
     "execution_count": 89,
     "metadata": {},
     "output_type": "execute_result"
    }
   ],
   "source": [
    "df_people.drop('age', axis=1) #dropnięcie kolumny 'age'"
   ],
   "metadata": {
    "collapsed": false
   }
  },
  {
   "cell_type": "code",
   "execution_count": 48,
   "outputs": [
    {
     "data": {
      "text/plain": "       Name  Age       Location      Occupation  Salary  Length in cm  age\n0     Alice   28       New York        Engineer   80000           178   78\n1       Bob   35    Los Angeles          Doctor  120000           179   79\n2   Charlie   22        Chicago         Student       0           182   82\n3     David   40  San Francisco         Manager   95000           190   90\n4     Emily   29          Miami        Designer   75000           189   34\n5     Frank   32         Boston         Teacher   60000           176   23\n6     Grace   27        Seattle       Scientist  110000           165   65\n7    Hannah   45         Dallas          Lawyer  130000           156   56\n8       Ian   31         Denver          Writer   70000           166   18\n9     Julia   24         Austin          Artist   55000           180   23\n10    Karen   38        Houston      Accountant   90000           165   33\n11     Liam   26        Phoenix    Photographer   50000           190   45\n12    Megan   33       Portland       Architect  105000           201   19\n13   Nathan   29        Atlanta        Musician   40000           160   46\n14   Olivia   27        Detroit            Chef   65000           179   24\n15     Paul   36    Minneapolis  Police Officer   85000           191   31",
      "text/html": "<div>\n<style scoped>\n    .dataframe tbody tr th:only-of-type {\n        vertical-align: middle;\n    }\n\n    .dataframe tbody tr th {\n        vertical-align: top;\n    }\n\n    .dataframe thead th {\n        text-align: right;\n    }\n</style>\n<table border=\"1\" class=\"dataframe\">\n  <thead>\n    <tr style=\"text-align: right;\">\n      <th></th>\n      <th>Name</th>\n      <th>Age</th>\n      <th>Location</th>\n      <th>Occupation</th>\n      <th>Salary</th>\n      <th>Length in cm</th>\n      <th>age</th>\n    </tr>\n  </thead>\n  <tbody>\n    <tr>\n      <th>0</th>\n      <td>Alice</td>\n      <td>28</td>\n      <td>New York</td>\n      <td>Engineer</td>\n      <td>80000</td>\n      <td>178</td>\n      <td>78</td>\n    </tr>\n    <tr>\n      <th>1</th>\n      <td>Bob</td>\n      <td>35</td>\n      <td>Los Angeles</td>\n      <td>Doctor</td>\n      <td>120000</td>\n      <td>179</td>\n      <td>79</td>\n    </tr>\n    <tr>\n      <th>2</th>\n      <td>Charlie</td>\n      <td>22</td>\n      <td>Chicago</td>\n      <td>Student</td>\n      <td>0</td>\n      <td>182</td>\n      <td>82</td>\n    </tr>\n    <tr>\n      <th>3</th>\n      <td>David</td>\n      <td>40</td>\n      <td>San Francisco</td>\n      <td>Manager</td>\n      <td>95000</td>\n      <td>190</td>\n      <td>90</td>\n    </tr>\n    <tr>\n      <th>4</th>\n      <td>Emily</td>\n      <td>29</td>\n      <td>Miami</td>\n      <td>Designer</td>\n      <td>75000</td>\n      <td>189</td>\n      <td>34</td>\n    </tr>\n    <tr>\n      <th>5</th>\n      <td>Frank</td>\n      <td>32</td>\n      <td>Boston</td>\n      <td>Teacher</td>\n      <td>60000</td>\n      <td>176</td>\n      <td>23</td>\n    </tr>\n    <tr>\n      <th>6</th>\n      <td>Grace</td>\n      <td>27</td>\n      <td>Seattle</td>\n      <td>Scientist</td>\n      <td>110000</td>\n      <td>165</td>\n      <td>65</td>\n    </tr>\n    <tr>\n      <th>7</th>\n      <td>Hannah</td>\n      <td>45</td>\n      <td>Dallas</td>\n      <td>Lawyer</td>\n      <td>130000</td>\n      <td>156</td>\n      <td>56</td>\n    </tr>\n    <tr>\n      <th>8</th>\n      <td>Ian</td>\n      <td>31</td>\n      <td>Denver</td>\n      <td>Writer</td>\n      <td>70000</td>\n      <td>166</td>\n      <td>18</td>\n    </tr>\n    <tr>\n      <th>9</th>\n      <td>Julia</td>\n      <td>24</td>\n      <td>Austin</td>\n      <td>Artist</td>\n      <td>55000</td>\n      <td>180</td>\n      <td>23</td>\n    </tr>\n    <tr>\n      <th>10</th>\n      <td>Karen</td>\n      <td>38</td>\n      <td>Houston</td>\n      <td>Accountant</td>\n      <td>90000</td>\n      <td>165</td>\n      <td>33</td>\n    </tr>\n    <tr>\n      <th>11</th>\n      <td>Liam</td>\n      <td>26</td>\n      <td>Phoenix</td>\n      <td>Photographer</td>\n      <td>50000</td>\n      <td>190</td>\n      <td>45</td>\n    </tr>\n    <tr>\n      <th>12</th>\n      <td>Megan</td>\n      <td>33</td>\n      <td>Portland</td>\n      <td>Architect</td>\n      <td>105000</td>\n      <td>201</td>\n      <td>19</td>\n    </tr>\n    <tr>\n      <th>13</th>\n      <td>Nathan</td>\n      <td>29</td>\n      <td>Atlanta</td>\n      <td>Musician</td>\n      <td>40000</td>\n      <td>160</td>\n      <td>46</td>\n    </tr>\n    <tr>\n      <th>14</th>\n      <td>Olivia</td>\n      <td>27</td>\n      <td>Detroit</td>\n      <td>Chef</td>\n      <td>65000</td>\n      <td>179</td>\n      <td>24</td>\n    </tr>\n    <tr>\n      <th>15</th>\n      <td>Paul</td>\n      <td>36</td>\n      <td>Minneapolis</td>\n      <td>Police Officer</td>\n      <td>85000</td>\n      <td>191</td>\n      <td>31</td>\n    </tr>\n  </tbody>\n</table>\n</div>"
     },
     "execution_count": 48,
     "metadata": {},
     "output_type": "execute_result"
    }
   ],
   "source": [
    "df_people # jak widać jeszcze ta kolumna 'age' mimo usunięcia jest jeszcze widoczna"
   ],
   "metadata": {
    "collapsed": false
   }
  },
  {
   "cell_type": "code",
   "execution_count": 90,
   "outputs": [
    {
     "data": {
      "text/plain": "       Name  Age       Location      Occupation  Salary  Length in cm\n0     Alice   28       New York        Engineer   80000           178\n1       Bob   35    Los Angeles          Doctor  120000           179\n2   Charlie   22        Chicago         Student       0           182\n3     David   40  San Francisco         Manager   95000           190\n4     Emily   29          Miami        Designer   75000           189\n5     Frank   32         Boston         Teacher   60000           176\n6     Grace   27        Seattle       Scientist  110000           165\n7    Hannah   45         Dallas          Lawyer  130000           156\n8       Ian   31         Denver          Writer   70000           166\n9     Julia   24         Austin          Artist   55000           180\n10    Karen   38        Houston      Accountant   90000           165\n11     Liam   26        Phoenix    Photographer   50000           190\n12    Megan   33       Portland       Architect  105000           201\n13   Nathan   29        Atlanta        Musician   40000           160\n14   Olivia   27        Detroit            Chef   65000           179\n15     Paul   36    Minneapolis  Police Officer   85000           191",
      "text/html": "<div>\n<style scoped>\n    .dataframe tbody tr th:only-of-type {\n        vertical-align: middle;\n    }\n\n    .dataframe tbody tr th {\n        vertical-align: top;\n    }\n\n    .dataframe thead th {\n        text-align: right;\n    }\n</style>\n<table border=\"1\" class=\"dataframe\">\n  <thead>\n    <tr style=\"text-align: right;\">\n      <th></th>\n      <th>Name</th>\n      <th>Age</th>\n      <th>Location</th>\n      <th>Occupation</th>\n      <th>Salary</th>\n      <th>Length in cm</th>\n    </tr>\n  </thead>\n  <tbody>\n    <tr>\n      <th>0</th>\n      <td>Alice</td>\n      <td>28</td>\n      <td>New York</td>\n      <td>Engineer</td>\n      <td>80000</td>\n      <td>178</td>\n    </tr>\n    <tr>\n      <th>1</th>\n      <td>Bob</td>\n      <td>35</td>\n      <td>Los Angeles</td>\n      <td>Doctor</td>\n      <td>120000</td>\n      <td>179</td>\n    </tr>\n    <tr>\n      <th>2</th>\n      <td>Charlie</td>\n      <td>22</td>\n      <td>Chicago</td>\n      <td>Student</td>\n      <td>0</td>\n      <td>182</td>\n    </tr>\n    <tr>\n      <th>3</th>\n      <td>David</td>\n      <td>40</td>\n      <td>San Francisco</td>\n      <td>Manager</td>\n      <td>95000</td>\n      <td>190</td>\n    </tr>\n    <tr>\n      <th>4</th>\n      <td>Emily</td>\n      <td>29</td>\n      <td>Miami</td>\n      <td>Designer</td>\n      <td>75000</td>\n      <td>189</td>\n    </tr>\n    <tr>\n      <th>5</th>\n      <td>Frank</td>\n      <td>32</td>\n      <td>Boston</td>\n      <td>Teacher</td>\n      <td>60000</td>\n      <td>176</td>\n    </tr>\n    <tr>\n      <th>6</th>\n      <td>Grace</td>\n      <td>27</td>\n      <td>Seattle</td>\n      <td>Scientist</td>\n      <td>110000</td>\n      <td>165</td>\n    </tr>\n    <tr>\n      <th>7</th>\n      <td>Hannah</td>\n      <td>45</td>\n      <td>Dallas</td>\n      <td>Lawyer</td>\n      <td>130000</td>\n      <td>156</td>\n    </tr>\n    <tr>\n      <th>8</th>\n      <td>Ian</td>\n      <td>31</td>\n      <td>Denver</td>\n      <td>Writer</td>\n      <td>70000</td>\n      <td>166</td>\n    </tr>\n    <tr>\n      <th>9</th>\n      <td>Julia</td>\n      <td>24</td>\n      <td>Austin</td>\n      <td>Artist</td>\n      <td>55000</td>\n      <td>180</td>\n    </tr>\n    <tr>\n      <th>10</th>\n      <td>Karen</td>\n      <td>38</td>\n      <td>Houston</td>\n      <td>Accountant</td>\n      <td>90000</td>\n      <td>165</td>\n    </tr>\n    <tr>\n      <th>11</th>\n      <td>Liam</td>\n      <td>26</td>\n      <td>Phoenix</td>\n      <td>Photographer</td>\n      <td>50000</td>\n      <td>190</td>\n    </tr>\n    <tr>\n      <th>12</th>\n      <td>Megan</td>\n      <td>33</td>\n      <td>Portland</td>\n      <td>Architect</td>\n      <td>105000</td>\n      <td>201</td>\n    </tr>\n    <tr>\n      <th>13</th>\n      <td>Nathan</td>\n      <td>29</td>\n      <td>Atlanta</td>\n      <td>Musician</td>\n      <td>40000</td>\n      <td>160</td>\n    </tr>\n    <tr>\n      <th>14</th>\n      <td>Olivia</td>\n      <td>27</td>\n      <td>Detroit</td>\n      <td>Chef</td>\n      <td>65000</td>\n      <td>179</td>\n    </tr>\n    <tr>\n      <th>15</th>\n      <td>Paul</td>\n      <td>36</td>\n      <td>Minneapolis</td>\n      <td>Police Officer</td>\n      <td>85000</td>\n      <td>191</td>\n    </tr>\n  </tbody>\n</table>\n</div>"
     },
     "execution_count": 90,
     "metadata": {},
     "output_type": "execute_result"
    }
   ],
   "source": [
    "df_people = df_people.drop('age', axis=1) # wyświetlenie stanu tabeli po usunięciu kolumny 'age'\n",
    "df_people"
   ],
   "metadata": {
    "collapsed": false
   }
  },
  {
   "cell_type": "code",
   "execution_count": 44,
   "outputs": [
    {
     "data": {
      "text/plain": "       Name  Age       Location      Occupation  Salary  Length in cm\n0     Alice   28       New York        Engineer   80000           178\n1       Bob   35    Los Angeles          Doctor  120000           179\n2   Charlie   22        Chicago         Student       0           182\n3     David   40  San Francisco         Manager   95000           190\n4     Emily   29          Miami        Designer   75000           189\n5     Frank   32         Boston         Teacher   60000           176\n6     Grace   27        Seattle       Scientist  110000           165\n7    Hannah   45         Dallas          Lawyer  130000           156\n8       Ian   31         Denver          Writer   70000           166\n9     Julia   24         Austin          Artist   55000           180\n10    Karen   38        Houston      Accountant   90000           165\n11     Liam   26        Phoenix    Photographer   50000           190\n12    Megan   33       Portland       Architect  105000           201\n13   Nathan   29        Atlanta        Musician   40000           160\n14   Olivia   27        Detroit            Chef   65000           179\n15     Paul   36    Minneapolis  Police Officer   85000           191",
      "text/html": "<div>\n<style scoped>\n    .dataframe tbody tr th:only-of-type {\n        vertical-align: middle;\n    }\n\n    .dataframe tbody tr th {\n        vertical-align: top;\n    }\n\n    .dataframe thead th {\n        text-align: right;\n    }\n</style>\n<table border=\"1\" class=\"dataframe\">\n  <thead>\n    <tr style=\"text-align: right;\">\n      <th></th>\n      <th>Name</th>\n      <th>Age</th>\n      <th>Location</th>\n      <th>Occupation</th>\n      <th>Salary</th>\n      <th>Length in cm</th>\n    </tr>\n  </thead>\n  <tbody>\n    <tr>\n      <th>0</th>\n      <td>Alice</td>\n      <td>28</td>\n      <td>New York</td>\n      <td>Engineer</td>\n      <td>80000</td>\n      <td>178</td>\n    </tr>\n    <tr>\n      <th>1</th>\n      <td>Bob</td>\n      <td>35</td>\n      <td>Los Angeles</td>\n      <td>Doctor</td>\n      <td>120000</td>\n      <td>179</td>\n    </tr>\n    <tr>\n      <th>2</th>\n      <td>Charlie</td>\n      <td>22</td>\n      <td>Chicago</td>\n      <td>Student</td>\n      <td>0</td>\n      <td>182</td>\n    </tr>\n    <tr>\n      <th>3</th>\n      <td>David</td>\n      <td>40</td>\n      <td>San Francisco</td>\n      <td>Manager</td>\n      <td>95000</td>\n      <td>190</td>\n    </tr>\n    <tr>\n      <th>4</th>\n      <td>Emily</td>\n      <td>29</td>\n      <td>Miami</td>\n      <td>Designer</td>\n      <td>75000</td>\n      <td>189</td>\n    </tr>\n    <tr>\n      <th>5</th>\n      <td>Frank</td>\n      <td>32</td>\n      <td>Boston</td>\n      <td>Teacher</td>\n      <td>60000</td>\n      <td>176</td>\n    </tr>\n    <tr>\n      <th>6</th>\n      <td>Grace</td>\n      <td>27</td>\n      <td>Seattle</td>\n      <td>Scientist</td>\n      <td>110000</td>\n      <td>165</td>\n    </tr>\n    <tr>\n      <th>7</th>\n      <td>Hannah</td>\n      <td>45</td>\n      <td>Dallas</td>\n      <td>Lawyer</td>\n      <td>130000</td>\n      <td>156</td>\n    </tr>\n    <tr>\n      <th>8</th>\n      <td>Ian</td>\n      <td>31</td>\n      <td>Denver</td>\n      <td>Writer</td>\n      <td>70000</td>\n      <td>166</td>\n    </tr>\n    <tr>\n      <th>9</th>\n      <td>Julia</td>\n      <td>24</td>\n      <td>Austin</td>\n      <td>Artist</td>\n      <td>55000</td>\n      <td>180</td>\n    </tr>\n    <tr>\n      <th>10</th>\n      <td>Karen</td>\n      <td>38</td>\n      <td>Houston</td>\n      <td>Accountant</td>\n      <td>90000</td>\n      <td>165</td>\n    </tr>\n    <tr>\n      <th>11</th>\n      <td>Liam</td>\n      <td>26</td>\n      <td>Phoenix</td>\n      <td>Photographer</td>\n      <td>50000</td>\n      <td>190</td>\n    </tr>\n    <tr>\n      <th>12</th>\n      <td>Megan</td>\n      <td>33</td>\n      <td>Portland</td>\n      <td>Architect</td>\n      <td>105000</td>\n      <td>201</td>\n    </tr>\n    <tr>\n      <th>13</th>\n      <td>Nathan</td>\n      <td>29</td>\n      <td>Atlanta</td>\n      <td>Musician</td>\n      <td>40000</td>\n      <td>160</td>\n    </tr>\n    <tr>\n      <th>14</th>\n      <td>Olivia</td>\n      <td>27</td>\n      <td>Detroit</td>\n      <td>Chef</td>\n      <td>65000</td>\n      <td>179</td>\n    </tr>\n    <tr>\n      <th>15</th>\n      <td>Paul</td>\n      <td>36</td>\n      <td>Minneapolis</td>\n      <td>Police Officer</td>\n      <td>85000</td>\n      <td>191</td>\n    </tr>\n  </tbody>\n</table>\n</div>"
     },
     "execution_count": 44,
     "metadata": {},
     "output_type": "execute_result"
    }
   ],
   "source": [
    "df_people"
   ],
   "metadata": {
    "collapsed": false
   }
  },
  {
   "cell_type": "code",
   "execution_count": 91,
   "outputs": [
    {
     "name": "stdout",
     "output_type": "stream",
     "text": [
      "<class 'pandas.core.frame.DataFrame'>\n",
      "RangeIndex: 16 entries, 0 to 15\n",
      "Data columns (total 6 columns):\n",
      " #   Column        Non-Null Count  Dtype \n",
      "---  ------        --------------  ----- \n",
      " 0   Name          16 non-null     object\n",
      " 1   Age           16 non-null     int64 \n",
      " 2   Location      16 non-null     object\n",
      " 3   Occupation    16 non-null     object\n",
      " 4   Salary        16 non-null     int64 \n",
      " 5   Length in cm  16 non-null     int64 \n",
      "dtypes: int64(3), object(3)\n",
      "memory usage: 896.0+ bytes\n"
     ]
    }
   ],
   "source": [
    "df_people.info() # Dzięki metodzie 'info' możemy sobie zobaczyć jakie typy kolumn są uzyte w tej bazie (jakie metryki są przypisane do kolumn) w naszym data frame 'df_house'.\n",
    "# I teraz kolumna 'non-null' pokazuje ile wierszy nie jest pustych. Jak widać mamy różnice, co oznacza, że w niektórych wierszach brakuje nam wartości. Jeśli wartość jest ta sama dla wszystkich wierszy, to jest ok, ale jeśli dla któregoś jest inna, tzn. że tam są wartości puste, czyli brakuje wartości.\n",
    "# W kolumnie 'Dtype' mamy jakie rodzaje typów wartości są w nich zawarte, i tak object = string, a inne już mają standardowe nazwy."
   ],
   "metadata": {
    "collapsed": false
   }
  },
  {
   "cell_type": "code",
   "execution_count": 92,
   "outputs": [
    {
     "data": {
      "text/plain": "Name            0\nAge             0\nLocation        0\nOccupation      0\nSalary          0\nLength in cm    0\ndtype: int64"
     },
     "execution_count": 92,
     "metadata": {},
     "output_type": "execute_result"
    }
   ],
   "source": [
    "df_people.isna().sum() # dzięki tej metody 'isna()' możemy zobaczyć ile w rzeczywistości brakuje wierszy w danych kolumnach, ktore następnie sumujemy .sum(), zeby mieć pełny obraz.  W tej bazie nie brakuje żadnych."
   ],
   "metadata": {
    "collapsed": false
   }
  },
  {
   "cell_type": "code",
   "execution_count": 52,
   "outputs": [],
   "source": [
    "pd.set_option('display.float.format', lambda x: '%.5f' % x) # tutaj ustawiamy flagę dla Pandas, o nazwie 'display.float.format' + tu korzystamy z 'lambdy', aby każdy z tych wierszy był wyswietlany jako wartość dziesiętna, z 5 miejscami po przecinku"
   ],
   "metadata": {
    "collapsed": false
   }
  },
  {
   "cell_type": "code",
   "execution_count": 53,
   "outputs": [
    {
     "data": {
      "text/plain": "           Age       Salary  Length in cm\ncount 16.00000     16.00000      16.00000\nmean  31.37500  76875.00000     177.93750\nstd    6.18466  32755.40668      12.70941\nmin   22.00000      0.00000     156.00000\n25%   27.00000  58750.00000     165.75000\n50%   30.00000  77500.00000     179.00000\n75%   35.25000  97500.00000     189.25000\nmax   45.00000 130000.00000     201.00000",
      "text/html": "<div>\n<style scoped>\n    .dataframe tbody tr th:only-of-type {\n        vertical-align: middle;\n    }\n\n    .dataframe tbody tr th {\n        vertical-align: top;\n    }\n\n    .dataframe thead th {\n        text-align: right;\n    }\n</style>\n<table border=\"1\" class=\"dataframe\">\n  <thead>\n    <tr style=\"text-align: right;\">\n      <th></th>\n      <th>Age</th>\n      <th>Salary</th>\n      <th>Length in cm</th>\n    </tr>\n  </thead>\n  <tbody>\n    <tr>\n      <th>count</th>\n      <td>16.00000</td>\n      <td>16.00000</td>\n      <td>16.00000</td>\n    </tr>\n    <tr>\n      <th>mean</th>\n      <td>31.37500</td>\n      <td>76875.00000</td>\n      <td>177.93750</td>\n    </tr>\n    <tr>\n      <th>std</th>\n      <td>6.18466</td>\n      <td>32755.40668</td>\n      <td>12.70941</td>\n    </tr>\n    <tr>\n      <th>min</th>\n      <td>22.00000</td>\n      <td>0.00000</td>\n      <td>156.00000</td>\n    </tr>\n    <tr>\n      <th>25%</th>\n      <td>27.00000</td>\n      <td>58750.00000</td>\n      <td>165.75000</td>\n    </tr>\n    <tr>\n      <th>50%</th>\n      <td>30.00000</td>\n      <td>77500.00000</td>\n      <td>179.00000</td>\n    </tr>\n    <tr>\n      <th>75%</th>\n      <td>35.25000</td>\n      <td>97500.00000</td>\n      <td>189.25000</td>\n    </tr>\n    <tr>\n      <th>max</th>\n      <td>45.00000</td>\n      <td>130000.00000</td>\n      <td>201.00000</td>\n    </tr>\n  </tbody>\n</table>\n</div>"
     },
     "execution_count": 53,
     "metadata": {},
     "output_type": "execute_result"
    }
   ],
   "source": [
    "df_people.describe() # Bardzo przydatna Funkcja'describe' - za pomocą której wyświetlamy podstawowe statystyki, gdzie mamy zawarte wszystkie numeryczne kolumny. Dzięki temu zobaczymy, czy nie ma jakichś złych danych, np.min cena za 1m2=2grosze, zaś cena max=ponad 9mln zł."
   ],
   "metadata": {
    "collapsed": false
   }
  },
  {
   "cell_type": "code",
   "execution_count": 54,
   "outputs": [
    {
     "data": {
      "text/plain": "         Name  Location Occupation\ncount      16        16         16\nunique     16        16         16\ntop     Alice  New York   Engineer\nfreq        1         1          1",
      "text/html": "<div>\n<style scoped>\n    .dataframe tbody tr th:only-of-type {\n        vertical-align: middle;\n    }\n\n    .dataframe tbody tr th {\n        vertical-align: top;\n    }\n\n    .dataframe thead th {\n        text-align: right;\n    }\n</style>\n<table border=\"1\" class=\"dataframe\">\n  <thead>\n    <tr style=\"text-align: right;\">\n      <th></th>\n      <th>Name</th>\n      <th>Location</th>\n      <th>Occupation</th>\n    </tr>\n  </thead>\n  <tbody>\n    <tr>\n      <th>count</th>\n      <td>16</td>\n      <td>16</td>\n      <td>16</td>\n    </tr>\n    <tr>\n      <th>unique</th>\n      <td>16</td>\n      <td>16</td>\n      <td>16</td>\n    </tr>\n    <tr>\n      <th>top</th>\n      <td>Alice</td>\n      <td>New York</td>\n      <td>Engineer</td>\n    </tr>\n    <tr>\n      <th>freq</th>\n      <td>1</td>\n      <td>1</td>\n      <td>1</td>\n    </tr>\n  </tbody>\n</table>\n</div>"
     },
     "execution_count": 54,
     "metadata": {},
     "output_type": "execute_result"
    }
   ],
   "source": [
    "df_people.describe(include='object') # teraz wyświetlamy podstawowe statystyki, gdzie mamy zawarte wszystkie tekstowe (object) kolumny"
   ],
   "metadata": {
    "collapsed": false
   }
  },
  {
   "cell_type": "code",
   "execution_count": 79,
   "outputs": [
    {
     "data": {
      "text/plain": "     Name  Age       Location      Occupation  Salary  Length in cm\n6   Grace   27        Seattle       Scientist  110000           165\n0   Alice   28       New York        Engineer   80000           178\n4   Emily   29          Miami        Designer   75000           189\n12  Megan   33       Portland       Architect  105000           201\n1     Bob   35    Los Angeles          Doctor  120000           179\n15   Paul   36    Minneapolis  Police Officer   85000           191\n10  Karen   38        Houston      Accountant   90000           165\n3   David   40  San Francisco         Manager   95000           190",
      "text/html": "<div>\n<style scoped>\n    .dataframe tbody tr th:only-of-type {\n        vertical-align: middle;\n    }\n\n    .dataframe tbody tr th {\n        vertical-align: top;\n    }\n\n    .dataframe thead th {\n        text-align: right;\n    }\n</style>\n<table border=\"1\" class=\"dataframe\">\n  <thead>\n    <tr style=\"text-align: right;\">\n      <th></th>\n      <th>Name</th>\n      <th>Age</th>\n      <th>Location</th>\n      <th>Occupation</th>\n      <th>Salary</th>\n      <th>Length in cm</th>\n    </tr>\n  </thead>\n  <tbody>\n    <tr>\n      <th>6</th>\n      <td>Grace</td>\n      <td>27</td>\n      <td>Seattle</td>\n      <td>Scientist</td>\n      <td>110000</td>\n      <td>165</td>\n    </tr>\n    <tr>\n      <th>0</th>\n      <td>Alice</td>\n      <td>28</td>\n      <td>New York</td>\n      <td>Engineer</td>\n      <td>80000</td>\n      <td>178</td>\n    </tr>\n    <tr>\n      <th>4</th>\n      <td>Emily</td>\n      <td>29</td>\n      <td>Miami</td>\n      <td>Designer</td>\n      <td>75000</td>\n      <td>189</td>\n    </tr>\n    <tr>\n      <th>12</th>\n      <td>Megan</td>\n      <td>33</td>\n      <td>Portland</td>\n      <td>Architect</td>\n      <td>105000</td>\n      <td>201</td>\n    </tr>\n    <tr>\n      <th>1</th>\n      <td>Bob</td>\n      <td>35</td>\n      <td>Los Angeles</td>\n      <td>Doctor</td>\n      <td>120000</td>\n      <td>179</td>\n    </tr>\n    <tr>\n      <th>15</th>\n      <td>Paul</td>\n      <td>36</td>\n      <td>Minneapolis</td>\n      <td>Police Officer</td>\n      <td>85000</td>\n      <td>191</td>\n    </tr>\n    <tr>\n      <th>10</th>\n      <td>Karen</td>\n      <td>38</td>\n      <td>Houston</td>\n      <td>Accountant</td>\n      <td>90000</td>\n      <td>165</td>\n    </tr>\n    <tr>\n      <th>3</th>\n      <td>David</td>\n      <td>40</td>\n      <td>San Francisco</td>\n      <td>Manager</td>\n      <td>95000</td>\n      <td>190</td>\n    </tr>\n  </tbody>\n</table>\n</div>"
     },
     "execution_count": 79,
     "metadata": {},
     "output_type": "execute_result"
    }
   ],
   "source": [
    "df_people.sort_values('Age') # tu sortujemy po ludzi po wieku"
   ],
   "metadata": {
    "collapsed": false
   }
  },
  {
   "cell_type": "code",
   "execution_count": 63,
   "outputs": [
    {
     "data": {
      "text/plain": "     Name  Age       Location      Occupation  Salary  Length in cm\n1     Bob   35    Los Angeles          Doctor  120000           179\n6   Grace   27        Seattle       Scientist  110000           165\n12  Megan   33       Portland       Architect  105000           201\n3   David   40  San Francisco         Manager   95000           190\n10  Karen   38        Houston      Accountant   90000           165\n15   Paul   36    Minneapolis  Police Officer   85000           191\n0   Alice   28       New York        Engineer   80000           178\n4   Emily   29          Miami        Designer   75000           189",
      "text/html": "<div>\n<style scoped>\n    .dataframe tbody tr th:only-of-type {\n        vertical-align: middle;\n    }\n\n    .dataframe tbody tr th {\n        vertical-align: top;\n    }\n\n    .dataframe thead th {\n        text-align: right;\n    }\n</style>\n<table border=\"1\" class=\"dataframe\">\n  <thead>\n    <tr style=\"text-align: right;\">\n      <th></th>\n      <th>Name</th>\n      <th>Age</th>\n      <th>Location</th>\n      <th>Occupation</th>\n      <th>Salary</th>\n      <th>Length in cm</th>\n    </tr>\n  </thead>\n  <tbody>\n    <tr>\n      <th>1</th>\n      <td>Bob</td>\n      <td>35</td>\n      <td>Los Angeles</td>\n      <td>Doctor</td>\n      <td>120000</td>\n      <td>179</td>\n    </tr>\n    <tr>\n      <th>6</th>\n      <td>Grace</td>\n      <td>27</td>\n      <td>Seattle</td>\n      <td>Scientist</td>\n      <td>110000</td>\n      <td>165</td>\n    </tr>\n    <tr>\n      <th>12</th>\n      <td>Megan</td>\n      <td>33</td>\n      <td>Portland</td>\n      <td>Architect</td>\n      <td>105000</td>\n      <td>201</td>\n    </tr>\n    <tr>\n      <th>3</th>\n      <td>David</td>\n      <td>40</td>\n      <td>San Francisco</td>\n      <td>Manager</td>\n      <td>95000</td>\n      <td>190</td>\n    </tr>\n    <tr>\n      <th>10</th>\n      <td>Karen</td>\n      <td>38</td>\n      <td>Houston</td>\n      <td>Accountant</td>\n      <td>90000</td>\n      <td>165</td>\n    </tr>\n    <tr>\n      <th>15</th>\n      <td>Paul</td>\n      <td>36</td>\n      <td>Minneapolis</td>\n      <td>Police Officer</td>\n      <td>85000</td>\n      <td>191</td>\n    </tr>\n    <tr>\n      <th>0</th>\n      <td>Alice</td>\n      <td>28</td>\n      <td>New York</td>\n      <td>Engineer</td>\n      <td>80000</td>\n      <td>178</td>\n    </tr>\n    <tr>\n      <th>4</th>\n      <td>Emily</td>\n      <td>29</td>\n      <td>Miami</td>\n      <td>Designer</td>\n      <td>75000</td>\n      <td>189</td>\n    </tr>\n  </tbody>\n</table>\n</div>"
     },
     "execution_count": 63,
     "metadata": {},
     "output_type": "execute_result"
    }
   ],
   "source": [
    "df_people.sort_values('Salary', ascending=False) # tu sobie sortujemy po zarobkach, ale od największych, do najmniejszych"
   ],
   "metadata": {
    "collapsed": false
   }
  },
  {
   "cell_type": "code",
   "execution_count": 83,
   "outputs": [
    {
     "data": {
      "text/plain": "     Name  Age       Location      Occupation  Salary  Length in cm\n0   Alice   28       New York        Engineer   80000           178\n1     Bob   35    Los Angeles          Doctor  120000           179\n3   David   40  San Francisco         Manager   95000           190\n4   Emily   29          Miami        Designer   75000           189\n6   Grace   27        Seattle       Scientist  110000           165\n10  Karen   38        Houston      Accountant   90000           165\n12  Megan   33       Portland       Architect  105000           201\n15   Paul   36    Minneapolis  Police Officer   85000           191",
      "text/html": "<div>\n<style scoped>\n    .dataframe tbody tr th:only-of-type {\n        vertical-align: middle;\n    }\n\n    .dataframe tbody tr th {\n        vertical-align: top;\n    }\n\n    .dataframe thead th {\n        text-align: right;\n    }\n</style>\n<table border=\"1\" class=\"dataframe\">\n  <thead>\n    <tr style=\"text-align: right;\">\n      <th></th>\n      <th>Name</th>\n      <th>Age</th>\n      <th>Location</th>\n      <th>Occupation</th>\n      <th>Salary</th>\n      <th>Length in cm</th>\n    </tr>\n  </thead>\n  <tbody>\n    <tr>\n      <th>0</th>\n      <td>Alice</td>\n      <td>28</td>\n      <td>New York</td>\n      <td>Engineer</td>\n      <td>80000</td>\n      <td>178</td>\n    </tr>\n    <tr>\n      <th>1</th>\n      <td>Bob</td>\n      <td>35</td>\n      <td>Los Angeles</td>\n      <td>Doctor</td>\n      <td>120000</td>\n      <td>179</td>\n    </tr>\n    <tr>\n      <th>3</th>\n      <td>David</td>\n      <td>40</td>\n      <td>San Francisco</td>\n      <td>Manager</td>\n      <td>95000</td>\n      <td>190</td>\n    </tr>\n    <tr>\n      <th>4</th>\n      <td>Emily</td>\n      <td>29</td>\n      <td>Miami</td>\n      <td>Designer</td>\n      <td>75000</td>\n      <td>189</td>\n    </tr>\n    <tr>\n      <th>6</th>\n      <td>Grace</td>\n      <td>27</td>\n      <td>Seattle</td>\n      <td>Scientist</td>\n      <td>110000</td>\n      <td>165</td>\n    </tr>\n    <tr>\n      <th>10</th>\n      <td>Karen</td>\n      <td>38</td>\n      <td>Houston</td>\n      <td>Accountant</td>\n      <td>90000</td>\n      <td>165</td>\n    </tr>\n    <tr>\n      <th>12</th>\n      <td>Megan</td>\n      <td>33</td>\n      <td>Portland</td>\n      <td>Architect</td>\n      <td>105000</td>\n      <td>201</td>\n    </tr>\n    <tr>\n      <th>15</th>\n      <td>Paul</td>\n      <td>36</td>\n      <td>Minneapolis</td>\n      <td>Police Officer</td>\n      <td>85000</td>\n      <td>191</td>\n    </tr>\n  </tbody>\n</table>\n</div>"
     },
     "execution_count": 83,
     "metadata": {},
     "output_type": "execute_result"
    }
   ],
   "source": [
    "df_people = df_people[(df_people['Salary'] > 70000) & (df_people['Salary'] < 130000 )] #zawężanie zakresu zarobków\n",
    "df_people"
   ],
   "metadata": {
    "collapsed": false
   }
  },
  {
   "cell_type": "code",
   "execution_count": 84,
   "outputs": [
    {
     "data": {
      "text/plain": "     Name  Age       Location      Occupation  Salary  Length in cm\n4   Emily   29          Miami        Designer   75000           189\n0   Alice   28       New York        Engineer   80000           178\n15   Paul   36    Minneapolis  Police Officer   85000           191\n10  Karen   38        Houston      Accountant   90000           165\n3   David   40  San Francisco         Manager   95000           190\n12  Megan   33       Portland       Architect  105000           201\n6   Grace   27        Seattle       Scientist  110000           165\n1     Bob   35    Los Angeles          Doctor  120000           179",
      "text/html": "<div>\n<style scoped>\n    .dataframe tbody tr th:only-of-type {\n        vertical-align: middle;\n    }\n\n    .dataframe tbody tr th {\n        vertical-align: top;\n    }\n\n    .dataframe thead th {\n        text-align: right;\n    }\n</style>\n<table border=\"1\" class=\"dataframe\">\n  <thead>\n    <tr style=\"text-align: right;\">\n      <th></th>\n      <th>Name</th>\n      <th>Age</th>\n      <th>Location</th>\n      <th>Occupation</th>\n      <th>Salary</th>\n      <th>Length in cm</th>\n    </tr>\n  </thead>\n  <tbody>\n    <tr>\n      <th>4</th>\n      <td>Emily</td>\n      <td>29</td>\n      <td>Miami</td>\n      <td>Designer</td>\n      <td>75000</td>\n      <td>189</td>\n    </tr>\n    <tr>\n      <th>0</th>\n      <td>Alice</td>\n      <td>28</td>\n      <td>New York</td>\n      <td>Engineer</td>\n      <td>80000</td>\n      <td>178</td>\n    </tr>\n    <tr>\n      <th>15</th>\n      <td>Paul</td>\n      <td>36</td>\n      <td>Minneapolis</td>\n      <td>Police Officer</td>\n      <td>85000</td>\n      <td>191</td>\n    </tr>\n    <tr>\n      <th>10</th>\n      <td>Karen</td>\n      <td>38</td>\n      <td>Houston</td>\n      <td>Accountant</td>\n      <td>90000</td>\n      <td>165</td>\n    </tr>\n    <tr>\n      <th>3</th>\n      <td>David</td>\n      <td>40</td>\n      <td>San Francisco</td>\n      <td>Manager</td>\n      <td>95000</td>\n      <td>190</td>\n    </tr>\n    <tr>\n      <th>12</th>\n      <td>Megan</td>\n      <td>33</td>\n      <td>Portland</td>\n      <td>Architect</td>\n      <td>105000</td>\n      <td>201</td>\n    </tr>\n    <tr>\n      <th>6</th>\n      <td>Grace</td>\n      <td>27</td>\n      <td>Seattle</td>\n      <td>Scientist</td>\n      <td>110000</td>\n      <td>165</td>\n    </tr>\n    <tr>\n      <th>1</th>\n      <td>Bob</td>\n      <td>35</td>\n      <td>Los Angeles</td>\n      <td>Doctor</td>\n      <td>120000</td>\n      <td>179</td>\n    </tr>\n  </tbody>\n</table>\n</div>"
     },
     "execution_count": 84,
     "metadata": {},
     "output_type": "execute_result"
    }
   ],
   "source": [
    "df_people.sort_values('Salary') # sortowanie po zawężeniu zarobków, od najmniejszego, do największego"
   ],
   "metadata": {
    "collapsed": false
   }
  },
  {
   "cell_type": "code",
   "execution_count": 85,
   "outputs": [
    {
     "data": {
      "text/plain": "           Age       Salary  Length in cm\ncount  8.00000      8.00000       8.00000\nmean  33.25000  95000.00000     182.25000\nstd    4.83292  15583.87445      12.85913\nmin   27.00000  75000.00000     165.00000\n25%   28.75000  83750.00000     174.75000\n50%   34.00000  92500.00000     184.00000\n75%   36.50000 106250.00000     190.25000\nmax   40.00000 120000.00000     201.00000",
      "text/html": "<div>\n<style scoped>\n    .dataframe tbody tr th:only-of-type {\n        vertical-align: middle;\n    }\n\n    .dataframe tbody tr th {\n        vertical-align: top;\n    }\n\n    .dataframe thead th {\n        text-align: right;\n    }\n</style>\n<table border=\"1\" class=\"dataframe\">\n  <thead>\n    <tr style=\"text-align: right;\">\n      <th></th>\n      <th>Age</th>\n      <th>Salary</th>\n      <th>Length in cm</th>\n    </tr>\n  </thead>\n  <tbody>\n    <tr>\n      <th>count</th>\n      <td>8.00000</td>\n      <td>8.00000</td>\n      <td>8.00000</td>\n    </tr>\n    <tr>\n      <th>mean</th>\n      <td>33.25000</td>\n      <td>95000.00000</td>\n      <td>182.25000</td>\n    </tr>\n    <tr>\n      <th>std</th>\n      <td>4.83292</td>\n      <td>15583.87445</td>\n      <td>12.85913</td>\n    </tr>\n    <tr>\n      <th>min</th>\n      <td>27.00000</td>\n      <td>75000.00000</td>\n      <td>165.00000</td>\n    </tr>\n    <tr>\n      <th>25%</th>\n      <td>28.75000</td>\n      <td>83750.00000</td>\n      <td>174.75000</td>\n    </tr>\n    <tr>\n      <th>50%</th>\n      <td>34.00000</td>\n      <td>92500.00000</td>\n      <td>184.00000</td>\n    </tr>\n    <tr>\n      <th>75%</th>\n      <td>36.50000</td>\n      <td>106250.00000</td>\n      <td>190.25000</td>\n    </tr>\n    <tr>\n      <th>max</th>\n      <td>40.00000</td>\n      <td>120000.00000</td>\n      <td>201.00000</td>\n    </tr>\n  </tbody>\n</table>\n</div>"
     },
     "execution_count": 85,
     "metadata": {},
     "output_type": "execute_result"
    }
   ],
   "source": [
    "df_people.describe() # teraz widzimy statystyki po zawężeniu odnośnie 'Salary'"
   ],
   "metadata": {
    "collapsed": false
   }
  },
  {
   "cell_type": "code",
   "execution_count": 100,
   "outputs": [
    {
     "data": {
      "text/plain": "age\n78    2\n38    2\n45    2\n33    2\n82    1\n90    1\n65    1\n56    1\n19    1\n46    1\n24    1\n31    1\nName: count, dtype: int64"
     },
     "execution_count": 100,
     "metadata": {},
     "output_type": "execute_result"
    }
   ],
   "source": [
    "df_people['age'].value_counts() #tu za pomocą funkcji '.value_counts' możemy z danej kolumny wyciągnąć istniejące tam różne dane i je następnie zsumować ile takich jest wystąpień"
   ],
   "metadata": {
    "collapsed": false
   }
  },
  {
   "cell_type": "markdown",
   "source": [
    "### GRUPOWANIE\n"
   ],
   "metadata": {
    "collapsed": false
   }
  },
  {
   "cell_type": "code",
   "execution_count": 98,
   "outputs": [
    {
     "data": {
      "text/plain": "age\n19    105000\n24     65000\n31     85000\n33    145000\n38    135000\n45    120000\n46     40000\n56    130000\n65    110000\n78    200000\n82         0\n90     95000\nName: Salary, dtype: int64"
     },
     "execution_count": 98,
     "metadata": {},
     "output_type": "execute_result"
    }
   ],
   "source": [
    "df_people.groupby ('age')['Salary'].sum() # korzystamy z metody 'group by', gdzie grupujemy po 'age' i 'Salary' + dajemy fuknkcję agregującą 'sum', która zsumuje wszystkie ceny pod konkretnego 'age'"
   ],
   "metadata": {
    "collapsed": false
   }
  },
  {
   "cell_type": "code",
   "execution_count": 102,
   "outputs": [
    {
     "data": {
      "text/plain": "        min     max\nage                \n19   105000  105000\n24    65000   65000\n31    85000   85000\n33    55000   90000\n38    60000   75000\n45    50000   70000\n46    40000   40000\n56   130000  130000\n65   110000  110000\n78    80000  120000\n82        0       0\n90    95000   95000",
      "text/html": "<div>\n<style scoped>\n    .dataframe tbody tr th:only-of-type {\n        vertical-align: middle;\n    }\n\n    .dataframe tbody tr th {\n        vertical-align: top;\n    }\n\n    .dataframe thead th {\n        text-align: right;\n    }\n</style>\n<table border=\"1\" class=\"dataframe\">\n  <thead>\n    <tr style=\"text-align: right;\">\n      <th></th>\n      <th>min</th>\n      <th>max</th>\n    </tr>\n    <tr>\n      <th>age</th>\n      <th></th>\n      <th></th>\n    </tr>\n  </thead>\n  <tbody>\n    <tr>\n      <th>19</th>\n      <td>105000</td>\n      <td>105000</td>\n    </tr>\n    <tr>\n      <th>24</th>\n      <td>65000</td>\n      <td>65000</td>\n    </tr>\n    <tr>\n      <th>31</th>\n      <td>85000</td>\n      <td>85000</td>\n    </tr>\n    <tr>\n      <th>33</th>\n      <td>55000</td>\n      <td>90000</td>\n    </tr>\n    <tr>\n      <th>38</th>\n      <td>60000</td>\n      <td>75000</td>\n    </tr>\n    <tr>\n      <th>45</th>\n      <td>50000</td>\n      <td>70000</td>\n    </tr>\n    <tr>\n      <th>46</th>\n      <td>40000</td>\n      <td>40000</td>\n    </tr>\n    <tr>\n      <th>56</th>\n      <td>130000</td>\n      <td>130000</td>\n    </tr>\n    <tr>\n      <th>65</th>\n      <td>110000</td>\n      <td>110000</td>\n    </tr>\n    <tr>\n      <th>78</th>\n      <td>80000</td>\n      <td>120000</td>\n    </tr>\n    <tr>\n      <th>82</th>\n      <td>0</td>\n      <td>0</td>\n    </tr>\n    <tr>\n      <th>90</th>\n      <td>95000</td>\n      <td>95000</td>\n    </tr>\n  </tbody>\n</table>\n</div>"
     },
     "execution_count": 102,
     "metadata": {},
     "output_type": "execute_result"
    }
   ],
   "source": [
    "df_people.groupby('age')['Salary'].aggregate(['min', 'max']) #teraz grupujemy po dacie, po total price, ale za pomocą metody 'aggregate' pokazujemy kwoty min i max z 'total price' pofiltrowanych po dacie"
   ],
   "metadata": {
    "collapsed": false
   }
  },
  {
   "cell_type": "code",
   "execution_count": null,
   "outputs": [],
   "source": [],
   "metadata": {
    "collapsed": false
   }
  }
 ],
 "metadata": {
  "kernelspec": {
   "display_name": "Python 3",
   "language": "python",
   "name": "python3"
  },
  "language_info": {
   "codemirror_mode": {
    "name": "ipython",
    "version": 2
   },
   "file_extension": ".py",
   "mimetype": "text/x-python",
   "name": "python",
   "nbconvert_exporter": "python",
   "pygments_lexer": "ipython2",
   "version": "2.7.6"
  }
 },
 "nbformat": 4,
 "nbformat_minor": 0
}
