{
 "cells": [
  {
   "cell_type": "code",
   "execution_count": 1,
   "metadata": {
    "collapsed": true
   },
   "outputs": [
    {
     "ename": "ModuleNotFoundError",
     "evalue": "No module named 'pandas'",
     "output_type": "error",
     "traceback": [
      "\u001B[1;31m---------------------------------------------------------------------------\u001B[0m",
      "\u001B[1;31mModuleNotFoundError\u001B[0m                       Traceback (most recent call last)",
      "Cell \u001B[1;32mIn[1], line 1\u001B[0m\n\u001B[1;32m----> 1\u001B[0m \u001B[38;5;28;01mimport\u001B[39;00m \u001B[38;5;21;01mpandas\u001B[39;00m \u001B[38;5;28;01mas\u001B[39;00m \u001B[38;5;21;01mpd\u001B[39;00m\n\u001B[0;32m      2\u001B[0m \u001B[38;5;28;01mimport\u001B[39;00m \u001B[38;5;21;01mnumpy\u001B[39;00m \u001B[38;5;28;01mas\u001B[39;00m \u001B[38;5;21;01mnp\u001B[39;00m\n",
      "\u001B[1;31mModuleNotFoundError\u001B[0m: No module named 'pandas'"
     ]
    }
   ],
   "source": [
    "import pandas as pd\n",
    "import numpy as np"
   ]
  },
  {
   "cell_type": "markdown",
   "source": [
    "### Tworzenia DataFrame"
   ],
   "metadata": {
    "collapsed": false
   }
  },
  {
   "cell_type": "code",
   "execution_count": 2,
   "outputs": [],
   "source": [
    "arr2d = np.array([[1,2,3], [4,5,6]]) # tu tworzymy tablicę za NumpPy"
   ],
   "metadata": {
    "collapsed": false
   }
  },
  {
   "cell_type": "code",
   "execution_count": 3,
   "outputs": [
    {
     "data": {
      "text/plain": "   0  1  2\n0  1  2  3\n1  4  5  6",
      "text/html": "<div>\n<style scoped>\n    .dataframe tbody tr th:only-of-type {\n        vertical-align: middle;\n    }\n\n    .dataframe tbody tr th {\n        vertical-align: top;\n    }\n\n    .dataframe thead th {\n        text-align: right;\n    }\n</style>\n<table border=\"1\" class=\"dataframe\">\n  <thead>\n    <tr style=\"text-align: right;\">\n      <th></th>\n      <th>0</th>\n      <th>1</th>\n      <th>2</th>\n    </tr>\n  </thead>\n  <tbody>\n    <tr>\n      <th>0</th>\n      <td>1</td>\n      <td>2</td>\n      <td>3</td>\n    </tr>\n    <tr>\n      <th>1</th>\n      <td>4</td>\n      <td>5</td>\n      <td>6</td>\n    </tr>\n  </tbody>\n</table>\n</div>"
     },
     "execution_count": 3,
     "metadata": {},
     "output_type": "execute_result"
    }
   ],
   "source": [
    "pd.DataFrame(arr2d) #tu za pomocą tej tablicy tworzymy Pandas Data Frame"
   ],
   "metadata": {
    "collapsed": false
   }
  },
  {
   "cell_type": "code",
   "execution_count": 4,
   "outputs": [
    {
     "data": {
      "text/plain": "   a  b  c\n0  1  2  3\n1  4  5  6",
      "text/html": "<div>\n<style scoped>\n    .dataframe tbody tr th:only-of-type {\n        vertical-align: middle;\n    }\n\n    .dataframe tbody tr th {\n        vertical-align: top;\n    }\n\n    .dataframe thead th {\n        text-align: right;\n    }\n</style>\n<table border=\"1\" class=\"dataframe\">\n  <thead>\n    <tr style=\"text-align: right;\">\n      <th></th>\n      <th>a</th>\n      <th>b</th>\n      <th>c</th>\n    </tr>\n  </thead>\n  <tbody>\n    <tr>\n      <th>0</th>\n      <td>1</td>\n      <td>2</td>\n      <td>3</td>\n    </tr>\n    <tr>\n      <th>1</th>\n      <td>4</td>\n      <td>5</td>\n      <td>6</td>\n    </tr>\n  </tbody>\n</table>\n</div>"
     },
     "execution_count": 4,
     "metadata": {},
     "output_type": "execute_result"
    }
   ],
   "source": [
    "pd.DataFrame(arr2d,columns=['a', 'b', 'c']) # tak nazywamy kolumny data frame"
   ],
   "metadata": {
    "collapsed": false
   }
  },
  {
   "cell_type": "code",
   "execution_count": 6,
   "outputs": [
    {
     "data": {
      "text/plain": "    a  b  c\nw1  1  2  3\nw2  4  5  6",
      "text/html": "<div>\n<style scoped>\n    .dataframe tbody tr th:only-of-type {\n        vertical-align: middle;\n    }\n\n    .dataframe tbody tr th {\n        vertical-align: top;\n    }\n\n    .dataframe thead th {\n        text-align: right;\n    }\n</style>\n<table border=\"1\" class=\"dataframe\">\n  <thead>\n    <tr style=\"text-align: right;\">\n      <th></th>\n      <th>a</th>\n      <th>b</th>\n      <th>c</th>\n    </tr>\n  </thead>\n  <tbody>\n    <tr>\n      <th>w1</th>\n      <td>1</td>\n      <td>2</td>\n      <td>3</td>\n    </tr>\n    <tr>\n      <th>w2</th>\n      <td>4</td>\n      <td>5</td>\n      <td>6</td>\n    </tr>\n  </tbody>\n</table>\n</div>"
     },
     "execution_count": 6,
     "metadata": {},
     "output_type": "execute_result"
    }
   ],
   "source": [
    "pd.DataFrame(arr2d,columns=['a', 'b', 'c'], index=['w1', 'w2']) #a tu dodatkowo wstawiamy nazwy wierszy"
   ],
   "metadata": {
    "collapsed": false
   }
  },
  {
   "cell_type": "markdown",
   "source": [
    "### Wybór elementów z DataFramework"
   ],
   "metadata": {
    "collapsed": false
   }
  },
  {
   "cell_type": "code",
   "execution_count": 7,
   "outputs": [],
   "source": [
    "np.random.seed(5) # teraz będziemy sobie generować losowo data frame\n",
    "arr_rnd = np.random.rand(5,5) # tu generujemy w sposób losowy tablicę 5x5"
   ],
   "metadata": {
    "collapsed": false
   }
  },
  {
   "cell_type": "code",
   "execution_count": 61,
   "outputs": [],
   "source": [
    "df = pd.DataFrame(arr_rnd, index=['A', 'B', 'C', 'D', 'E'], columns=['C1', 'C2', 'C3', 'C4', 'C5'] ) # a tu na podtsawie powyższej tablicy tworzymy data frame oraz wstawiamy nazwy wierszy-polecenie index i nazwy kolumn - polecenie columns"
   ],
   "metadata": {
    "collapsed": false
   }
  },
  {
   "cell_type": "code",
   "execution_count": 42,
   "outputs": [
    {
     "data": {
      "text/plain": "         C1        C2        C3        C4        C5\nA  0.221993  0.870732  0.206719  0.918611  0.488411\nB  0.611744  0.765908  0.518418  0.296801  0.187721\nC  0.080741  0.738440  0.441309  0.158310  0.879937\nD  0.274086  0.414235  0.296080  0.628788  0.579838\nE  0.599929  0.265819  0.284686  0.253588  0.327564",
      "text/html": "<div>\n<style scoped>\n    .dataframe tbody tr th:only-of-type {\n        vertical-align: middle;\n    }\n\n    .dataframe tbody tr th {\n        vertical-align: top;\n    }\n\n    .dataframe thead th {\n        text-align: right;\n    }\n</style>\n<table border=\"1\" class=\"dataframe\">\n  <thead>\n    <tr style=\"text-align: right;\">\n      <th></th>\n      <th>C1</th>\n      <th>C2</th>\n      <th>C3</th>\n      <th>C4</th>\n      <th>C5</th>\n    </tr>\n  </thead>\n  <tbody>\n    <tr>\n      <th>A</th>\n      <td>0.221993</td>\n      <td>0.870732</td>\n      <td>0.206719</td>\n      <td>0.918611</td>\n      <td>0.488411</td>\n    </tr>\n    <tr>\n      <th>B</th>\n      <td>0.611744</td>\n      <td>0.765908</td>\n      <td>0.518418</td>\n      <td>0.296801</td>\n      <td>0.187721</td>\n    </tr>\n    <tr>\n      <th>C</th>\n      <td>0.080741</td>\n      <td>0.738440</td>\n      <td>0.441309</td>\n      <td>0.158310</td>\n      <td>0.879937</td>\n    </tr>\n    <tr>\n      <th>D</th>\n      <td>0.274086</td>\n      <td>0.414235</td>\n      <td>0.296080</td>\n      <td>0.628788</td>\n      <td>0.579838</td>\n    </tr>\n    <tr>\n      <th>E</th>\n      <td>0.599929</td>\n      <td>0.265819</td>\n      <td>0.284686</td>\n      <td>0.253588</td>\n      <td>0.327564</td>\n    </tr>\n  </tbody>\n</table>\n</div>"
     },
     "execution_count": 42,
     "metadata": {},
     "output_type": "execute_result"
    }
   ],
   "source": [
    "df"
   ],
   "metadata": {
    "collapsed": false
   }
  },
  {
   "cell_type": "code",
   "execution_count": 13,
   "outputs": [
    {
     "data": {
      "text/plain": "A    0.221993\nB    0.611744\nC    0.080741\nD    0.274086\nE    0.599929\nName: C1, dtype: float64"
     },
     "execution_count": 13,
     "metadata": {},
     "output_type": "execute_result"
    }
   ],
   "source": [
    "df['C1'] # tu sobie robimy wyciągamy jedną kolumnę, u nas kolumne C1"
   ],
   "metadata": {
    "collapsed": false
   }
  },
  {
   "cell_type": "code",
   "execution_count": 11,
   "outputs": [
    {
     "data": {
      "text/plain": "         C1        C3\nA  0.221993  0.206719\nB  0.611744  0.518418\nC  0.080741  0.441309\nD  0.274086  0.296080\nE  0.599929  0.284686",
      "text/html": "<div>\n<style scoped>\n    .dataframe tbody tr th:only-of-type {\n        vertical-align: middle;\n    }\n\n    .dataframe tbody tr th {\n        vertical-align: top;\n    }\n\n    .dataframe thead th {\n        text-align: right;\n    }\n</style>\n<table border=\"1\" class=\"dataframe\">\n  <thead>\n    <tr style=\"text-align: right;\">\n      <th></th>\n      <th>C1</th>\n      <th>C3</th>\n    </tr>\n  </thead>\n  <tbody>\n    <tr>\n      <th>A</th>\n      <td>0.221993</td>\n      <td>0.206719</td>\n    </tr>\n    <tr>\n      <th>B</th>\n      <td>0.611744</td>\n      <td>0.518418</td>\n    </tr>\n    <tr>\n      <th>C</th>\n      <td>0.080741</td>\n      <td>0.441309</td>\n    </tr>\n    <tr>\n      <th>D</th>\n      <td>0.274086</td>\n      <td>0.296080</td>\n    </tr>\n    <tr>\n      <th>E</th>\n      <td>0.599929</td>\n      <td>0.284686</td>\n    </tr>\n  </tbody>\n</table>\n</div>"
     },
     "execution_count": 11,
     "metadata": {},
     "output_type": "execute_result"
    }
   ],
   "source": [
    "df[['C1', 'C3']] # a tu sobie wyciągamy dwie kolumnę, u nas kolumny C1, C3, ale musimy dodać jeszcze drugi nawias kwadratowy"
   ],
   "metadata": {
    "collapsed": false
   }
  },
  {
   "cell_type": "code",
   "execution_count": 55,
   "outputs": [
    {
     "data": {
      "text/plain": "  index        C1        C3        C4        C5    C6_NEW  new_index\n0     A  0.221993  0.206719  0.918611  0.488411  1.837222        100\n1     B  0.611744  0.518418  0.296801  0.187721  0.593601        101\n2     C  0.080741  0.441309  0.158310  0.879937  0.316620        102\n3     D  0.274086  0.296080  0.628788  0.579838  1.257576        103\n4     E  0.599929  0.284686  0.253588  0.327564  0.507176        104",
      "text/html": "<div>\n<style scoped>\n    .dataframe tbody tr th:only-of-type {\n        vertical-align: middle;\n    }\n\n    .dataframe tbody tr th {\n        vertical-align: top;\n    }\n\n    .dataframe thead th {\n        text-align: right;\n    }\n</style>\n<table border=\"1\" class=\"dataframe\">\n  <thead>\n    <tr style=\"text-align: right;\">\n      <th></th>\n      <th>index</th>\n      <th>C1</th>\n      <th>C3</th>\n      <th>C4</th>\n      <th>C5</th>\n      <th>C6_NEW</th>\n      <th>new_index</th>\n    </tr>\n  </thead>\n  <tbody>\n    <tr>\n      <th>0</th>\n      <td>A</td>\n      <td>0.221993</td>\n      <td>0.206719</td>\n      <td>0.918611</td>\n      <td>0.488411</td>\n      <td>1.837222</td>\n      <td>100</td>\n    </tr>\n    <tr>\n      <th>1</th>\n      <td>B</td>\n      <td>0.611744</td>\n      <td>0.518418</td>\n      <td>0.296801</td>\n      <td>0.187721</td>\n      <td>0.593601</td>\n      <td>101</td>\n    </tr>\n    <tr>\n      <th>2</th>\n      <td>C</td>\n      <td>0.080741</td>\n      <td>0.441309</td>\n      <td>0.158310</td>\n      <td>0.879937</td>\n      <td>0.316620</td>\n      <td>102</td>\n    </tr>\n    <tr>\n      <th>3</th>\n      <td>D</td>\n      <td>0.274086</td>\n      <td>0.296080</td>\n      <td>0.628788</td>\n      <td>0.579838</td>\n      <td>1.257576</td>\n      <td>103</td>\n    </tr>\n    <tr>\n      <th>4</th>\n      <td>E</td>\n      <td>0.599929</td>\n      <td>0.284686</td>\n      <td>0.253588</td>\n      <td>0.327564</td>\n      <td>0.507176</td>\n      <td>104</td>\n    </tr>\n  </tbody>\n</table>\n</div>"
     },
     "execution_count": 55,
     "metadata": {},
     "output_type": "execute_result"
    }
   ],
   "source": [
    "df['C6_NEW'] = df['C4'] * 2 # A teraz sobie DODAJEMY NOWĄ KOLUMNĘ, która będzie równała się podwojonej wartości z kolumny C4 -- lub tak jak poniżej\n",
    "df['new_index'] = [100, 101, 102, 103, 104]\n",
    "df"
   ],
   "metadata": {
    "collapsed": false
   }
  },
  {
   "cell_type": "code",
   "execution_count": 44,
   "outputs": [
    {
     "data": {
      "text/plain": "         C1        C2        C3        C4        C5    C6_NEW\nA  0.221993  0.870732  0.206719  0.918611  0.488411  1.837222\nB  0.611744  0.765908  0.518418  0.296801  0.187721  0.593601\nC  0.080741  0.738440  0.441309  0.158310  0.879937  0.316620\nD  0.274086  0.414235  0.296080  0.628788  0.579838  1.257576\nE  0.599929  0.265819  0.284686  0.253588  0.327564  0.507176",
      "text/html": "<div>\n<style scoped>\n    .dataframe tbody tr th:only-of-type {\n        vertical-align: middle;\n    }\n\n    .dataframe tbody tr th {\n        vertical-align: top;\n    }\n\n    .dataframe thead th {\n        text-align: right;\n    }\n</style>\n<table border=\"1\" class=\"dataframe\">\n  <thead>\n    <tr style=\"text-align: right;\">\n      <th></th>\n      <th>C1</th>\n      <th>C2</th>\n      <th>C3</th>\n      <th>C4</th>\n      <th>C5</th>\n      <th>C6_NEW</th>\n    </tr>\n  </thead>\n  <tbody>\n    <tr>\n      <th>A</th>\n      <td>0.221993</td>\n      <td>0.870732</td>\n      <td>0.206719</td>\n      <td>0.918611</td>\n      <td>0.488411</td>\n      <td>1.837222</td>\n    </tr>\n    <tr>\n      <th>B</th>\n      <td>0.611744</td>\n      <td>0.765908</td>\n      <td>0.518418</td>\n      <td>0.296801</td>\n      <td>0.187721</td>\n      <td>0.593601</td>\n    </tr>\n    <tr>\n      <th>C</th>\n      <td>0.080741</td>\n      <td>0.738440</td>\n      <td>0.441309</td>\n      <td>0.158310</td>\n      <td>0.879937</td>\n      <td>0.316620</td>\n    </tr>\n    <tr>\n      <th>D</th>\n      <td>0.274086</td>\n      <td>0.414235</td>\n      <td>0.296080</td>\n      <td>0.628788</td>\n      <td>0.579838</td>\n      <td>1.257576</td>\n    </tr>\n    <tr>\n      <th>E</th>\n      <td>0.599929</td>\n      <td>0.265819</td>\n      <td>0.284686</td>\n      <td>0.253588</td>\n      <td>0.327564</td>\n      <td>0.507176</td>\n    </tr>\n  </tbody>\n</table>\n</div>"
     },
     "execution_count": 44,
     "metadata": {},
     "output_type": "execute_result"
    }
   ],
   "source": [
    "df.drop('C2', axis=1) # usuwanie KOLUMN, ale ważne jest żeby podać 'axis', zaczynamy od 0, czyli jeśli chcemy usunąć kolumnę C2, to wiadomo, że zaczynając od 0, to ona jest pod indeksem 1, bo Kolumna z ABCDE, to kolumna, która nie jest brana pod uwagę, gdyż są to nazwy wierszy\n",
    "df #ale jak widzimy, że jak poprosimy o wyswietlenie dataframe = df, to ta kolumn dalej jest"
   ],
   "metadata": {
    "collapsed": false
   }
  },
  {
   "cell_type": "code",
   "execution_count": 45,
   "outputs": [
    {
     "data": {
      "text/plain": "         C1        C2        C3        C4        C5    C6_NEW\nA  0.221993  0.870732  0.206719  0.918611  0.488411  1.837222\nB  0.611744  0.765908  0.518418  0.296801  0.187721  0.593601\nC  0.080741  0.738440  0.441309  0.158310  0.879937  0.316620\nD  0.274086  0.414235  0.296080  0.628788  0.579838  1.257576\nE  0.599929  0.265819  0.284686  0.253588  0.327564  0.507176",
      "text/html": "<div>\n<style scoped>\n    .dataframe tbody tr th:only-of-type {\n        vertical-align: middle;\n    }\n\n    .dataframe tbody tr th {\n        vertical-align: top;\n    }\n\n    .dataframe thead th {\n        text-align: right;\n    }\n</style>\n<table border=\"1\" class=\"dataframe\">\n  <thead>\n    <tr style=\"text-align: right;\">\n      <th></th>\n      <th>C1</th>\n      <th>C2</th>\n      <th>C3</th>\n      <th>C4</th>\n      <th>C5</th>\n      <th>C6_NEW</th>\n    </tr>\n  </thead>\n  <tbody>\n    <tr>\n      <th>A</th>\n      <td>0.221993</td>\n      <td>0.870732</td>\n      <td>0.206719</td>\n      <td>0.918611</td>\n      <td>0.488411</td>\n      <td>1.837222</td>\n    </tr>\n    <tr>\n      <th>B</th>\n      <td>0.611744</td>\n      <td>0.765908</td>\n      <td>0.518418</td>\n      <td>0.296801</td>\n      <td>0.187721</td>\n      <td>0.593601</td>\n    </tr>\n    <tr>\n      <th>C</th>\n      <td>0.080741</td>\n      <td>0.738440</td>\n      <td>0.441309</td>\n      <td>0.158310</td>\n      <td>0.879937</td>\n      <td>0.316620</td>\n    </tr>\n    <tr>\n      <th>D</th>\n      <td>0.274086</td>\n      <td>0.414235</td>\n      <td>0.296080</td>\n      <td>0.628788</td>\n      <td>0.579838</td>\n      <td>1.257576</td>\n    </tr>\n    <tr>\n      <th>E</th>\n      <td>0.599929</td>\n      <td>0.265819</td>\n      <td>0.284686</td>\n      <td>0.253588</td>\n      <td>0.327564</td>\n      <td>0.507176</td>\n    </tr>\n  </tbody>\n</table>\n</div>"
     },
     "execution_count": 45,
     "metadata": {},
     "output_type": "execute_result"
    }
   ],
   "source": [
    "df #ale jak widzimy, że jak poprosimy o wyswietlenie dataframe = df, to ta kolumn dalej jest"
   ],
   "metadata": {
    "collapsed": false
   }
  },
  {
   "cell_type": "code",
   "execution_count": 46,
   "outputs": [
    {
     "data": {
      "text/plain": "         C1        C3        C4        C5    C6_NEW\nA  0.221993  0.206719  0.918611  0.488411  1.837222\nB  0.611744  0.518418  0.296801  0.187721  0.593601\nC  0.080741  0.441309  0.158310  0.879937  0.316620\nD  0.274086  0.296080  0.628788  0.579838  1.257576\nE  0.599929  0.284686  0.253588  0.327564  0.507176",
      "text/html": "<div>\n<style scoped>\n    .dataframe tbody tr th:only-of-type {\n        vertical-align: middle;\n    }\n\n    .dataframe tbody tr th {\n        vertical-align: top;\n    }\n\n    .dataframe thead th {\n        text-align: right;\n    }\n</style>\n<table border=\"1\" class=\"dataframe\">\n  <thead>\n    <tr style=\"text-align: right;\">\n      <th></th>\n      <th>C1</th>\n      <th>C3</th>\n      <th>C4</th>\n      <th>C5</th>\n      <th>C6_NEW</th>\n    </tr>\n  </thead>\n  <tbody>\n    <tr>\n      <th>A</th>\n      <td>0.221993</td>\n      <td>0.206719</td>\n      <td>0.918611</td>\n      <td>0.488411</td>\n      <td>1.837222</td>\n    </tr>\n    <tr>\n      <th>B</th>\n      <td>0.611744</td>\n      <td>0.518418</td>\n      <td>0.296801</td>\n      <td>0.187721</td>\n      <td>0.593601</td>\n    </tr>\n    <tr>\n      <th>C</th>\n      <td>0.080741</td>\n      <td>0.441309</td>\n      <td>0.158310</td>\n      <td>0.879937</td>\n      <td>0.316620</td>\n    </tr>\n    <tr>\n      <th>D</th>\n      <td>0.274086</td>\n      <td>0.296080</td>\n      <td>0.628788</td>\n      <td>0.579838</td>\n      <td>1.257576</td>\n    </tr>\n    <tr>\n      <th>E</th>\n      <td>0.599929</td>\n      <td>0.284686</td>\n      <td>0.253588</td>\n      <td>0.327564</td>\n      <td>0.507176</td>\n    </tr>\n  </tbody>\n</table>\n</div>"
     },
     "execution_count": 46,
     "metadata": {},
     "output_type": "execute_result"
    }
   ],
   "source": [
    "df = df.drop('C2', axis=1) # dopiero po tej aktualizacji, ta kolumna C2 znika\n",
    "df"
   ],
   "metadata": {
    "collapsed": false
   }
  },
  {
   "cell_type": "code",
   "execution_count": 48,
   "outputs": [
    {
     "data": {
      "text/plain": "         C1        C3        C4        C5    C6_NEW\nA  0.221993  0.206719  0.918611  0.488411  1.837222\nB  0.611744  0.518418  0.296801  0.187721  0.593601\nC  0.080741  0.441309  0.158310  0.879937  0.316620\nD  0.274086  0.296080  0.628788  0.579838  1.257576\nE  0.599929  0.284686  0.253588  0.327564  0.507176",
      "text/html": "<div>\n<style scoped>\n    .dataframe tbody tr th:only-of-type {\n        vertical-align: middle;\n    }\n\n    .dataframe tbody tr th {\n        vertical-align: top;\n    }\n\n    .dataframe thead th {\n        text-align: right;\n    }\n</style>\n<table border=\"1\" class=\"dataframe\">\n  <thead>\n    <tr style=\"text-align: right;\">\n      <th></th>\n      <th>C1</th>\n      <th>C3</th>\n      <th>C4</th>\n      <th>C5</th>\n      <th>C6_NEW</th>\n    </tr>\n  </thead>\n  <tbody>\n    <tr>\n      <th>A</th>\n      <td>0.221993</td>\n      <td>0.206719</td>\n      <td>0.918611</td>\n      <td>0.488411</td>\n      <td>1.837222</td>\n    </tr>\n    <tr>\n      <th>B</th>\n      <td>0.611744</td>\n      <td>0.518418</td>\n      <td>0.296801</td>\n      <td>0.187721</td>\n      <td>0.593601</td>\n    </tr>\n    <tr>\n      <th>C</th>\n      <td>0.080741</td>\n      <td>0.441309</td>\n      <td>0.158310</td>\n      <td>0.879937</td>\n      <td>0.316620</td>\n    </tr>\n    <tr>\n      <th>D</th>\n      <td>0.274086</td>\n      <td>0.296080</td>\n      <td>0.628788</td>\n      <td>0.579838</td>\n      <td>1.257576</td>\n    </tr>\n    <tr>\n      <th>E</th>\n      <td>0.599929</td>\n      <td>0.284686</td>\n      <td>0.253588</td>\n      <td>0.327564</td>\n      <td>0.507176</td>\n    </tr>\n  </tbody>\n</table>\n</div>"
     },
     "execution_count": 48,
     "metadata": {},
     "output_type": "execute_result"
    }
   ],
   "source": [
    "df.drop('C') # to jest usuwanie WIERSZY tylko z wyswietlenia, a nie docelowo z tablicy. Jak chcemy usunnąc z tablicy, to robimy jak powyżej\n",
    "df"
   ],
   "metadata": {
    "collapsed": false
   }
  },
  {
   "cell_type": "code",
   "execution_count": 49,
   "outputs": [
    {
     "data": {
      "text/plain": "C1        0.221993\nC3        0.206719\nC4        0.918611\nC5        0.488411\nC6_NEW    1.837222\nName: A, dtype: float64"
     },
     "execution_count": 49,
     "metadata": {},
     "output_type": "execute_result"
    }
   ],
   "source": [
    "df.loc['A'] # wyswietlenie etykiety A"
   ],
   "metadata": {
    "collapsed": false
   }
  },
  {
   "cell_type": "code",
   "execution_count": 16,
   "outputs": [
    {
     "data": {
      "text/plain": "         C1        C2        C3        C4        C5\nA  0.221993  0.870732  0.206719  0.918611  0.488411\nD  0.274086  0.414235  0.296080  0.628788  0.579838\nE  0.599929  0.265819  0.284686  0.253588  0.327564",
      "text/html": "<div>\n<style scoped>\n    .dataframe tbody tr th:only-of-type {\n        vertical-align: middle;\n    }\n\n    .dataframe tbody tr th {\n        vertical-align: top;\n    }\n\n    .dataframe thead th {\n        text-align: right;\n    }\n</style>\n<table border=\"1\" class=\"dataframe\">\n  <thead>\n    <tr style=\"text-align: right;\">\n      <th></th>\n      <th>C1</th>\n      <th>C2</th>\n      <th>C3</th>\n      <th>C4</th>\n      <th>C5</th>\n    </tr>\n  </thead>\n  <tbody>\n    <tr>\n      <th>A</th>\n      <td>0.221993</td>\n      <td>0.870732</td>\n      <td>0.206719</td>\n      <td>0.918611</td>\n      <td>0.488411</td>\n    </tr>\n    <tr>\n      <th>D</th>\n      <td>0.274086</td>\n      <td>0.414235</td>\n      <td>0.296080</td>\n      <td>0.628788</td>\n      <td>0.579838</td>\n    </tr>\n    <tr>\n      <th>E</th>\n      <td>0.599929</td>\n      <td>0.265819</td>\n      <td>0.284686</td>\n      <td>0.253588</td>\n      <td>0.327564</td>\n    </tr>\n  </tbody>\n</table>\n</div>"
     },
     "execution_count": 16,
     "metadata": {},
     "output_type": "execute_result"
    }
   ],
   "source": [
    "df.loc[['A', 'D', 'E']] # wyswietlenie 2 etykiet A i D"
   ],
   "metadata": {
    "collapsed": false
   }
  },
  {
   "cell_type": "code",
   "execution_count": 21,
   "outputs": [
    {
     "data": {
      "text/plain": "0.20671915533942642"
     },
     "execution_count": 21,
     "metadata": {},
     "output_type": "execute_result"
    }
   ],
   "source": [
    "df.loc['A','C3']"
   ],
   "metadata": {
    "collapsed": false
   }
  },
  {
   "cell_type": "code",
   "execution_count": 23,
   "outputs": [
    {
     "data": {
      "text/plain": "         C3        C4\nA  0.206719  0.918611\nB  0.518418  0.296801",
      "text/html": "<div>\n<style scoped>\n    .dataframe tbody tr th:only-of-type {\n        vertical-align: middle;\n    }\n\n    .dataframe tbody tr th {\n        vertical-align: top;\n    }\n\n    .dataframe thead th {\n        text-align: right;\n    }\n</style>\n<table border=\"1\" class=\"dataframe\">\n  <thead>\n    <tr style=\"text-align: right;\">\n      <th></th>\n      <th>C3</th>\n      <th>C4</th>\n    </tr>\n  </thead>\n  <tbody>\n    <tr>\n      <th>A</th>\n      <td>0.206719</td>\n      <td>0.918611</td>\n    </tr>\n    <tr>\n      <th>B</th>\n      <td>0.518418</td>\n      <td>0.296801</td>\n    </tr>\n  </tbody>\n</table>\n</div>"
     },
     "execution_count": 23,
     "metadata": {},
     "output_type": "execute_result"
    }
   ],
   "source": [
    "df.loc[['A', 'B'], ['C3', 'C4']] # tu mamy wycinek dwóch wierszy + dwóch kolumn"
   ],
   "metadata": {
    "collapsed": false
   }
  },
  {
   "cell_type": "markdown",
   "source": [
    "### Filtrowanie - wybór warunkowy - ale tylko filtrowanie, bez wpływu na data frame"
   ],
   "metadata": {
    "collapsed": false
   }
  },
  {
   "cell_type": "code",
   "execution_count": 59,
   "outputs": [
    {
     "data": {
      "text/plain": "  index        C1        C3        C4        C5    C6_NEW  new_index\n0     A  0.221993  0.206719  0.918611  0.488411  1.837222        100\n1     B  0.611744  0.518418  0.296801  0.187721  0.593601        101\n2     C  0.080741  0.441309  0.158310  0.879937  0.316620        102\n3     D  0.274086  0.296080  0.628788  0.579838  1.257576        103\n4     E  0.599929  0.284686  0.253588  0.327564  0.507176        104",
      "text/html": "<div>\n<style scoped>\n    .dataframe tbody tr th:only-of-type {\n        vertical-align: middle;\n    }\n\n    .dataframe tbody tr th {\n        vertical-align: top;\n    }\n\n    .dataframe thead th {\n        text-align: right;\n    }\n</style>\n<table border=\"1\" class=\"dataframe\">\n  <thead>\n    <tr style=\"text-align: right;\">\n      <th></th>\n      <th>index</th>\n      <th>C1</th>\n      <th>C3</th>\n      <th>C4</th>\n      <th>C5</th>\n      <th>C6_NEW</th>\n      <th>new_index</th>\n    </tr>\n  </thead>\n  <tbody>\n    <tr>\n      <th>0</th>\n      <td>A</td>\n      <td>0.221993</td>\n      <td>0.206719</td>\n      <td>0.918611</td>\n      <td>0.488411</td>\n      <td>1.837222</td>\n      <td>100</td>\n    </tr>\n    <tr>\n      <th>1</th>\n      <td>B</td>\n      <td>0.611744</td>\n      <td>0.518418</td>\n      <td>0.296801</td>\n      <td>0.187721</td>\n      <td>0.593601</td>\n      <td>101</td>\n    </tr>\n    <tr>\n      <th>2</th>\n      <td>C</td>\n      <td>0.080741</td>\n      <td>0.441309</td>\n      <td>0.158310</td>\n      <td>0.879937</td>\n      <td>0.316620</td>\n      <td>102</td>\n    </tr>\n    <tr>\n      <th>3</th>\n      <td>D</td>\n      <td>0.274086</td>\n      <td>0.296080</td>\n      <td>0.628788</td>\n      <td>0.579838</td>\n      <td>1.257576</td>\n      <td>103</td>\n    </tr>\n    <tr>\n      <th>4</th>\n      <td>E</td>\n      <td>0.599929</td>\n      <td>0.284686</td>\n      <td>0.253588</td>\n      <td>0.327564</td>\n      <td>0.507176</td>\n      <td>104</td>\n    </tr>\n  </tbody>\n</table>\n</div>"
     },
     "execution_count": 59,
     "metadata": {},
     "output_type": "execute_result"
    }
   ],
   "source": [
    "df #tu sobie sprawdzam, co mam w obecnym data frame - jaka jest jego zawartośc"
   ],
   "metadata": {
    "collapsed": false
   }
  },
  {
   "cell_type": "code",
   "execution_count": 62,
   "outputs": [
    {
     "data": {
      "text/plain": "      C1     C2     C3     C4     C5\nA  False   True  False   True  False\nB   True   True   True  False  False\nC  False   True  False  False   True\nD  False  False  False   True   True\nE   True  False  False  False  False",
      "text/html": "<div>\n<style scoped>\n    .dataframe tbody tr th:only-of-type {\n        vertical-align: middle;\n    }\n\n    .dataframe tbody tr th {\n        vertical-align: top;\n    }\n\n    .dataframe thead th {\n        text-align: right;\n    }\n</style>\n<table border=\"1\" class=\"dataframe\">\n  <thead>\n    <tr style=\"text-align: right;\">\n      <th></th>\n      <th>C1</th>\n      <th>C2</th>\n      <th>C3</th>\n      <th>C4</th>\n      <th>C5</th>\n    </tr>\n  </thead>\n  <tbody>\n    <tr>\n      <th>A</th>\n      <td>False</td>\n      <td>True</td>\n      <td>False</td>\n      <td>True</td>\n      <td>False</td>\n    </tr>\n    <tr>\n      <th>B</th>\n      <td>True</td>\n      <td>True</td>\n      <td>True</td>\n      <td>False</td>\n      <td>False</td>\n    </tr>\n    <tr>\n      <th>C</th>\n      <td>False</td>\n      <td>True</td>\n      <td>False</td>\n      <td>False</td>\n      <td>True</td>\n    </tr>\n    <tr>\n      <th>D</th>\n      <td>False</td>\n      <td>False</td>\n      <td>False</td>\n      <td>True</td>\n      <td>True</td>\n    </tr>\n    <tr>\n      <th>E</th>\n      <td>True</td>\n      <td>False</td>\n      <td>False</td>\n      <td>False</td>\n      <td>False</td>\n    </tr>\n  </tbody>\n</table>\n</div>"
     },
     "execution_count": 62,
     "metadata": {},
     "output_type": "execute_result"
    }
   ],
   "source": [
    "df > 0.5 # filtrujemy po wartościach, które są większe od 0,5"
   ],
   "metadata": {
    "collapsed": false
   }
  },
  {
   "cell_type": "code",
   "execution_count": 63,
   "outputs": [
    {
     "data": {
      "text/plain": "         C1        C2        C3        C4        C5\nA       NaN  0.870732       NaN  0.918611       NaN\nB  0.611744  0.765908  0.518418       NaN       NaN\nC       NaN  0.738440       NaN       NaN  0.879937\nD       NaN       NaN       NaN  0.628788  0.579838\nE  0.599929       NaN       NaN       NaN       NaN",
      "text/html": "<div>\n<style scoped>\n    .dataframe tbody tr th:only-of-type {\n        vertical-align: middle;\n    }\n\n    .dataframe tbody tr th {\n        vertical-align: top;\n    }\n\n    .dataframe thead th {\n        text-align: right;\n    }\n</style>\n<table border=\"1\" class=\"dataframe\">\n  <thead>\n    <tr style=\"text-align: right;\">\n      <th></th>\n      <th>C1</th>\n      <th>C2</th>\n      <th>C3</th>\n      <th>C4</th>\n      <th>C5</th>\n    </tr>\n  </thead>\n  <tbody>\n    <tr>\n      <th>A</th>\n      <td>NaN</td>\n      <td>0.870732</td>\n      <td>NaN</td>\n      <td>0.918611</td>\n      <td>NaN</td>\n    </tr>\n    <tr>\n      <th>B</th>\n      <td>0.611744</td>\n      <td>0.765908</td>\n      <td>0.518418</td>\n      <td>NaN</td>\n      <td>NaN</td>\n    </tr>\n    <tr>\n      <th>C</th>\n      <td>NaN</td>\n      <td>0.738440</td>\n      <td>NaN</td>\n      <td>NaN</td>\n      <td>0.879937</td>\n    </tr>\n    <tr>\n      <th>D</th>\n      <td>NaN</td>\n      <td>NaN</td>\n      <td>NaN</td>\n      <td>0.628788</td>\n      <td>0.579838</td>\n    </tr>\n    <tr>\n      <th>E</th>\n      <td>0.599929</td>\n      <td>NaN</td>\n      <td>NaN</td>\n      <td>NaN</td>\n      <td>NaN</td>\n    </tr>\n  </tbody>\n</table>\n</div>"
     },
     "execution_count": 63,
     "metadata": {},
     "output_type": "execute_result"
    }
   ],
   "source": [
    "df [df > 0.5] # teraz odfiltrowujemy z wartosci boolowskich, na integerowe i będziemy widzieć faktyczne wartości. ALe tam gdzie ten waunek nie jest spelniony mamy NaN=not ammounted - czyli, że nie spelnia tego warunku."
   ],
   "metadata": {
    "collapsed": false
   }
  },
  {
   "cell_type": "code",
   "execution_count": 26,
   "outputs": [],
   "source": [
    "# NaN - not ammounted"
   ],
   "metadata": {
    "collapsed": false
   }
  },
  {
   "cell_type": "code",
   "execution_count": 64,
   "outputs": [
    {
     "data": {
      "text/plain": "         C1        C2        C3        C4        C5\nA  0.221993       NaN  0.206719       NaN       NaN\nB       NaN       NaN       NaN  0.296801       NaN\nC       NaN       NaN       NaN       NaN       NaN\nD  0.274086       NaN  0.296080       NaN       NaN\nE       NaN  0.265819  0.284686  0.253588  0.327564",
      "text/html": "<div>\n<style scoped>\n    .dataframe tbody tr th:only-of-type {\n        vertical-align: middle;\n    }\n\n    .dataframe tbody tr th {\n        vertical-align: top;\n    }\n\n    .dataframe thead th {\n        text-align: right;\n    }\n</style>\n<table border=\"1\" class=\"dataframe\">\n  <thead>\n    <tr style=\"text-align: right;\">\n      <th></th>\n      <th>C1</th>\n      <th>C2</th>\n      <th>C3</th>\n      <th>C4</th>\n      <th>C5</th>\n    </tr>\n  </thead>\n  <tbody>\n    <tr>\n      <th>A</th>\n      <td>0.221993</td>\n      <td>NaN</td>\n      <td>0.206719</td>\n      <td>NaN</td>\n      <td>NaN</td>\n    </tr>\n    <tr>\n      <th>B</th>\n      <td>NaN</td>\n      <td>NaN</td>\n      <td>NaN</td>\n      <td>0.296801</td>\n      <td>NaN</td>\n    </tr>\n    <tr>\n      <th>C</th>\n      <td>NaN</td>\n      <td>NaN</td>\n      <td>NaN</td>\n      <td>NaN</td>\n      <td>NaN</td>\n    </tr>\n    <tr>\n      <th>D</th>\n      <td>0.274086</td>\n      <td>NaN</td>\n      <td>0.296080</td>\n      <td>NaN</td>\n      <td>NaN</td>\n    </tr>\n    <tr>\n      <th>E</th>\n      <td>NaN</td>\n      <td>0.265819</td>\n      <td>0.284686</td>\n      <td>0.253588</td>\n      <td>0.327564</td>\n    </tr>\n  </tbody>\n</table>\n</div>"
     },
     "execution_count": 64,
     "metadata": {},
     "output_type": "execute_result"
    }
   ],
   "source": [
    "df[(df >0.2) & (df<0.4)] # dwa warunki do filtrowania musza być spełnione, ale dla calej tabeli"
   ],
   "metadata": {
    "collapsed": false
   }
  },
  {
   "cell_type": "code",
   "execution_count": 67,
   "outputs": [
    {
     "data": {
      "text/plain": "         C1       C2        C3       C4        C5\nC  0.080741  0.73844  0.441309  0.15831  0.879937",
      "text/html": "<div>\n<style scoped>\n    .dataframe tbody tr th:only-of-type {\n        vertical-align: middle;\n    }\n\n    .dataframe tbody tr th {\n        vertical-align: top;\n    }\n\n    .dataframe thead th {\n        text-align: right;\n    }\n</style>\n<table border=\"1\" class=\"dataframe\">\n  <thead>\n    <tr style=\"text-align: right;\">\n      <th></th>\n      <th>C1</th>\n      <th>C2</th>\n      <th>C3</th>\n      <th>C4</th>\n      <th>C5</th>\n    </tr>\n  </thead>\n  <tbody>\n    <tr>\n      <th>C</th>\n      <td>0.080741</td>\n      <td>0.73844</td>\n      <td>0.441309</td>\n      <td>0.15831</td>\n      <td>0.879937</td>\n    </tr>\n  </tbody>\n</table>\n</div>"
     },
     "execution_count": 67,
     "metadata": {},
     "output_type": "execute_result"
    }
   ],
   "source": [
    "df [df['C1'] < 0.2] # tu mamy filtrowanie tylko dla  kolumny C1 - i tu zwróciło nam te wiersze, które ten filtr spełniają, czyli po tym filtrze nie ma wierszy A i B, bo nie spełniają tego warunku"
   ],
   "metadata": {
    "collapsed": false
   }
  },
  {
   "cell_type": "code",
   "execution_count": 68,
   "outputs": [
    {
     "data": {
      "text/plain": "         C1        C2        C3        C4        C5\nA  0.221993  0.870732  0.206719  0.918611  0.488411\nB  0.611744  0.765908  0.518418  0.296801  0.187721\nC  0.080741  0.738440  0.441309  0.158310  0.879937\nD  0.274086  0.414235  0.296080  0.628788  0.579838\nE  0.599929  0.265819  0.284686  0.253588  0.327564",
      "text/html": "<div>\n<style scoped>\n    .dataframe tbody tr th:only-of-type {\n        vertical-align: middle;\n    }\n\n    .dataframe tbody tr th {\n        vertical-align: top;\n    }\n\n    .dataframe thead th {\n        text-align: right;\n    }\n</style>\n<table border=\"1\" class=\"dataframe\">\n  <thead>\n    <tr style=\"text-align: right;\">\n      <th></th>\n      <th>C1</th>\n      <th>C2</th>\n      <th>C3</th>\n      <th>C4</th>\n      <th>C5</th>\n    </tr>\n  </thead>\n  <tbody>\n    <tr>\n      <th>A</th>\n      <td>0.221993</td>\n      <td>0.870732</td>\n      <td>0.206719</td>\n      <td>0.918611</td>\n      <td>0.488411</td>\n    </tr>\n    <tr>\n      <th>B</th>\n      <td>0.611744</td>\n      <td>0.765908</td>\n      <td>0.518418</td>\n      <td>0.296801</td>\n      <td>0.187721</td>\n    </tr>\n    <tr>\n      <th>C</th>\n      <td>0.080741</td>\n      <td>0.738440</td>\n      <td>0.441309</td>\n      <td>0.158310</td>\n      <td>0.879937</td>\n    </tr>\n    <tr>\n      <th>D</th>\n      <td>0.274086</td>\n      <td>0.414235</td>\n      <td>0.296080</td>\n      <td>0.628788</td>\n      <td>0.579838</td>\n    </tr>\n    <tr>\n      <th>E</th>\n      <td>0.599929</td>\n      <td>0.265819</td>\n      <td>0.284686</td>\n      <td>0.253588</td>\n      <td>0.327564</td>\n    </tr>\n  </tbody>\n</table>\n</div>"
     },
     "execution_count": 68,
     "metadata": {},
     "output_type": "execute_result"
    }
   ],
   "source": [
    "df"
   ],
   "metadata": {
    "collapsed": false
   }
  },
  {
   "cell_type": "code",
   "execution_count": 69,
   "outputs": [
    {
     "data": {
      "text/plain": "  index        C1        C2        C3        C4        C5\n0     A  0.221993  0.870732  0.206719  0.918611  0.488411\n1     B  0.611744  0.765908  0.518418  0.296801  0.187721\n2     C  0.080741  0.738440  0.441309  0.158310  0.879937\n3     D  0.274086  0.414235  0.296080  0.628788  0.579838\n4     E  0.599929  0.265819  0.284686  0.253588  0.327564",
      "text/html": "<div>\n<style scoped>\n    .dataframe tbody tr th:only-of-type {\n        vertical-align: middle;\n    }\n\n    .dataframe tbody tr th {\n        vertical-align: top;\n    }\n\n    .dataframe thead th {\n        text-align: right;\n    }\n</style>\n<table border=\"1\" class=\"dataframe\">\n  <thead>\n    <tr style=\"text-align: right;\">\n      <th></th>\n      <th>index</th>\n      <th>C1</th>\n      <th>C2</th>\n      <th>C3</th>\n      <th>C4</th>\n      <th>C5</th>\n    </tr>\n  </thead>\n  <tbody>\n    <tr>\n      <th>0</th>\n      <td>A</td>\n      <td>0.221993</td>\n      <td>0.870732</td>\n      <td>0.206719</td>\n      <td>0.918611</td>\n      <td>0.488411</td>\n    </tr>\n    <tr>\n      <th>1</th>\n      <td>B</td>\n      <td>0.611744</td>\n      <td>0.765908</td>\n      <td>0.518418</td>\n      <td>0.296801</td>\n      <td>0.187721</td>\n    </tr>\n    <tr>\n      <th>2</th>\n      <td>C</td>\n      <td>0.080741</td>\n      <td>0.738440</td>\n      <td>0.441309</td>\n      <td>0.158310</td>\n      <td>0.879937</td>\n    </tr>\n    <tr>\n      <th>3</th>\n      <td>D</td>\n      <td>0.274086</td>\n      <td>0.414235</td>\n      <td>0.296080</td>\n      <td>0.628788</td>\n      <td>0.579838</td>\n    </tr>\n    <tr>\n      <th>4</th>\n      <td>E</td>\n      <td>0.599929</td>\n      <td>0.265819</td>\n      <td>0.284686</td>\n      <td>0.253588</td>\n      <td>0.327564</td>\n    </tr>\n  </tbody>\n</table>\n</div>"
     },
     "execution_count": 69,
     "metadata": {},
     "output_type": "execute_result"
    }
   ],
   "source": [
    "df = df.reset_index() # tu resetuje cały indkes za pomocą polecenia 'reset'\n",
    "df"
   ],
   "metadata": {
    "collapsed": false
   }
  },
  {
   "cell_type": "code",
   "execution_count": 72,
   "outputs": [
    {
     "data": {
      "text/plain": "  index        C1        C2        C3        C4        C5  new_index\n0     A  0.221993  0.870732  0.206719  0.918611  0.488411        100\n1     B  0.611744  0.765908  0.518418  0.296801  0.187721        101\n2     C  0.080741  0.738440  0.441309  0.158310  0.879937        102\n3     D  0.274086  0.414235  0.296080  0.628788  0.579838        103\n4     E  0.599929  0.265819  0.284686  0.253588  0.327564        104",
      "text/html": "<div>\n<style scoped>\n    .dataframe tbody tr th:only-of-type {\n        vertical-align: middle;\n    }\n\n    .dataframe tbody tr th {\n        vertical-align: top;\n    }\n\n    .dataframe thead th {\n        text-align: right;\n    }\n</style>\n<table border=\"1\" class=\"dataframe\">\n  <thead>\n    <tr style=\"text-align: right;\">\n      <th></th>\n      <th>index</th>\n      <th>C1</th>\n      <th>C2</th>\n      <th>C3</th>\n      <th>C4</th>\n      <th>C5</th>\n      <th>new_index</th>\n    </tr>\n  </thead>\n  <tbody>\n    <tr>\n      <th>0</th>\n      <td>A</td>\n      <td>0.221993</td>\n      <td>0.870732</td>\n      <td>0.206719</td>\n      <td>0.918611</td>\n      <td>0.488411</td>\n      <td>100</td>\n    </tr>\n    <tr>\n      <th>1</th>\n      <td>B</td>\n      <td>0.611744</td>\n      <td>0.765908</td>\n      <td>0.518418</td>\n      <td>0.296801</td>\n      <td>0.187721</td>\n      <td>101</td>\n    </tr>\n    <tr>\n      <th>2</th>\n      <td>C</td>\n      <td>0.080741</td>\n      <td>0.738440</td>\n      <td>0.441309</td>\n      <td>0.158310</td>\n      <td>0.879937</td>\n      <td>102</td>\n    </tr>\n    <tr>\n      <th>3</th>\n      <td>D</td>\n      <td>0.274086</td>\n      <td>0.414235</td>\n      <td>0.296080</td>\n      <td>0.628788</td>\n      <td>0.579838</td>\n      <td>103</td>\n    </tr>\n    <tr>\n      <th>4</th>\n      <td>E</td>\n      <td>0.599929</td>\n      <td>0.265819</td>\n      <td>0.284686</td>\n      <td>0.253588</td>\n      <td>0.327564</td>\n      <td>104</td>\n    </tr>\n  </tbody>\n</table>\n</div>"
     },
     "execution_count": 72,
     "metadata": {},
     "output_type": "execute_result"
    }
   ],
   "source": [
    "df['new_index'] = [100, 101, 102, 103, 104] # DODAJEMY NOWĄ KOLUMNĘ, POPRZEZ PRZEKAZANIE WARTOSCI DO TABLICY\n",
    "df"
   ],
   "metadata": {
    "collapsed": false
   }
  },
  {
   "cell_type": "code",
   "execution_count": 73,
   "outputs": [
    {
     "data": {
      "text/plain": "          index        C1        C2        C3        C4        C5\nnew_index                                                        \n100           A  0.221993  0.870732  0.206719  0.918611  0.488411\n101           B  0.611744  0.765908  0.518418  0.296801  0.187721\n102           C  0.080741  0.738440  0.441309  0.158310  0.879937\n103           D  0.274086  0.414235  0.296080  0.628788  0.579838\n104           E  0.599929  0.265819  0.284686  0.253588  0.327564",
      "text/html": "<div>\n<style scoped>\n    .dataframe tbody tr th:only-of-type {\n        vertical-align: middle;\n    }\n\n    .dataframe tbody tr th {\n        vertical-align: top;\n    }\n\n    .dataframe thead th {\n        text-align: right;\n    }\n</style>\n<table border=\"1\" class=\"dataframe\">\n  <thead>\n    <tr style=\"text-align: right;\">\n      <th></th>\n      <th>index</th>\n      <th>C1</th>\n      <th>C2</th>\n      <th>C3</th>\n      <th>C4</th>\n      <th>C5</th>\n    </tr>\n    <tr>\n      <th>new_index</th>\n      <th></th>\n      <th></th>\n      <th></th>\n      <th></th>\n      <th></th>\n      <th></th>\n    </tr>\n  </thead>\n  <tbody>\n    <tr>\n      <th>100</th>\n      <td>A</td>\n      <td>0.221993</td>\n      <td>0.870732</td>\n      <td>0.206719</td>\n      <td>0.918611</td>\n      <td>0.488411</td>\n    </tr>\n    <tr>\n      <th>101</th>\n      <td>B</td>\n      <td>0.611744</td>\n      <td>0.765908</td>\n      <td>0.518418</td>\n      <td>0.296801</td>\n      <td>0.187721</td>\n    </tr>\n    <tr>\n      <th>102</th>\n      <td>C</td>\n      <td>0.080741</td>\n      <td>0.738440</td>\n      <td>0.441309</td>\n      <td>0.158310</td>\n      <td>0.879937</td>\n    </tr>\n    <tr>\n      <th>103</th>\n      <td>D</td>\n      <td>0.274086</td>\n      <td>0.414235</td>\n      <td>0.296080</td>\n      <td>0.628788</td>\n      <td>0.579838</td>\n    </tr>\n    <tr>\n      <th>104</th>\n      <td>E</td>\n      <td>0.599929</td>\n      <td>0.265819</td>\n      <td>0.284686</td>\n      <td>0.253588</td>\n      <td>0.327564</td>\n    </tr>\n  </tbody>\n</table>\n</div>"
     },
     "execution_count": 73,
     "metadata": {},
     "output_type": "execute_result"
    }
   ],
   "source": [
    "df = df.set_index('new_index') # tu robimy taką akcję za pomocą polecenie 'set', że ta nowa kolumna 'new_index' będzie pełnić rolę indeksu całego data frame\n",
    "df"
   ],
   "metadata": {
    "collapsed": false
   }
  },
  {
   "cell_type": "code",
   "execution_count": 74,
   "outputs": [
    {
     "data": {
      "text/plain": "index           D\nC1       0.274086\nC2       0.414235\nC3        0.29608\nC4       0.628788\nC5       0.579838\nName: 103, dtype: object"
     },
     "execution_count": 74,
     "metadata": {},
     "output_type": "execute_result"
    }
   ],
   "source": [
    "df.loc [103] # tu robimu filtrs po wierszu 103, z głownego indeksu"
   ],
   "metadata": {
    "collapsed": false
   }
  },
  {
   "cell_type": "code",
   "execution_count": null,
   "outputs": [],
   "source": [],
   "metadata": {
    "collapsed": false
   }
  }
 ],
 "metadata": {
  "kernelspec": {
   "display_name": "Python 3",
   "language": "python",
   "name": "python3"
  },
  "language_info": {
   "codemirror_mode": {
    "name": "ipython",
    "version": 2
   },
   "file_extension": ".py",
   "mimetype": "text/x-python",
   "name": "python",
   "nbconvert_exporter": "python",
   "pygments_lexer": "ipython2",
   "version": "2.7.6"
  }
 },
 "nbformat": 4,
 "nbformat_minor": 0
}
